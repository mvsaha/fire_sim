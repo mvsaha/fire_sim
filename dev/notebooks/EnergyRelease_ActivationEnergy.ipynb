{
 "cells": [
  {
   "cell_type": "code",
   "execution_count": 1,
   "metadata": {
    "collapsed": false
   },
   "outputs": [],
   "source": [
    "import sys\n",
    "sys.path.append('../')\n",
    "sys.dont_write_bytecode = True\n",
    "import numpy as np\n",
    "from matplotlib.pyplot import *\n",
    "%matplotlib inline\n",
    "import numba\n",
    "sys.path.append('/Users/Michael_Saha/Repositories/')\n",
    "sys.path.append('./../../../')\n",
    "from fire_sim import *"
   ]
  },
  {
   "cell_type": "code",
   "execution_count": 16,
   "metadata": {
    "collapsed": false
   },
   "outputs": [
    {
     "data": {
      "text/plain": [
       "(array([  2.70000000e+01,   5.46000000e+02,   4.49300000e+03,\n",
       "          1.74820000e+04,   3.31420000e+04,   2.91900000e+04,\n",
       "          1.24550000e+04,   2.40400000e+03,   2.47000000e+02,\n",
       "          1.40000000e+01]),\n",
       " array([-4.31612947, -3.42454834, -2.5329672 , -1.64138606, -0.74980492,\n",
       "         0.14177621,  1.03335735,  1.92493849,  2.81651963,  3.70810077,\n",
       "         4.5996819 ]),\n",
       " <a list of 1 Patch objects>)"
      ]
     },
     "execution_count": 16,
     "metadata": {},
     "output_type": "execute_result"
    },
    {
     "data": {
      "image/png": "[encoded data removed]",
      "text/plain": [
       "<matplotlib.figure.Figure at 0x7ff3f91b1ef0>"
      ]
     },
     "metadata": {},
     "output_type": "display_data"
    }
   ],
   "source": [
    "g = parameterize(np.random.gamma,1,1)\n",
    "n = parameterize(np.random.normal,0,1)\n",
    "\n",
    "\n",
    "hist(g(100000),histtype='step')\n",
    "hist(n(100000),histtype='step',color='r')"
   ]
  },
  {
   "cell_type": "markdown",
   "metadata": {},
   "source": [
    "### Fire Simulation\n",
    "#### Variable Descriptions\n",
    "```fires``` - The coordinates of all fires that have burnt. A 2-tuple of $(y,x)$ coordinates.\n",
    "\n",
    "```active``` - A 'cursor' that shows the range of pixels that are currently burning. This will be a contiguous range, as the active pixels will be visited in linear order. Simulation invariant: ```active[1]``` is the total number of fires that have started in the whole simulation. The $(y,x)$ coordinates all fires after the simulation has run is: ```(fires[0][:active[1]], fires[1][:active[1]])```\n",
    "\n",
    "```B``` - The 2d map of biomes. Each biome is associated with a distribution of land covers. For example, a chapparal biome would have more shrub land cover and a defensible space biome would have more inflammable land cover.\n",
    "\n",
    "```L``` - The 2d map of land cover types {e.g. inflammable, grass, shrub}. Each land cover type has burn properties that are drawn from a land-cover specific distribution. Land cover type 0 is inflammable; it will not burn, accumulate energy, or release energy.\n",
    "\n",
    "```E``` - The 2d accumulated energy. This is the matrix where, after a nearby pixel has burned and transmitted its energy to a neighborhood, the energy is stored/tallied. This builds up over the whole course of the simulation (never decays temporally).\n",
    "\n",
    "```A``` - The 2d map of energies required ignite a cell. When ```E[i,j]``` exceeds ```A[i,j]```, then a fire ignites in the cell.\n",
    "\n",
    "```R``` - 2d map of energy released. When cell $(i,j)$ is ignited, the energy value in ```R[i,j]``` is distributed among neighbors such that the total energy distributed is equal to ```R[i,j]```. The energy distributed to a givel pixel $p_{k,l}$ is equal to $\\frac{R_{i,j}}{d^{2}}$, where $d$ is the Euclidean distance from pixel $(i,j)$ to pixel $(k,l)$.\n",
    "\n",
    "```F``` - The 2d map of all fires that have burnt. The pixel value at ```F[i,j]``` is a integer value indicating the iteration on which the pixel first exceeded the ```A[i,j]```. If ```F[i,j]``` is ```0```, then the pixel has not been burnt. \n"
   ]
  },
  {
   "cell_type": "code",
   "execution_count": 20,
   "metadata": {
    "collapsed": false
   },
   "outputs": [
    {
     "data": {
      "text/plain": [
       "0"
      ]
     },
     "execution_count": 20,
     "metadata": {},
     "output_type": "execute_result"
    }
   ],
   "source": [
    "landcover_components = (\n",
    "# p(Bare)   p(Grass)  p(Shrub)\n",
    "( 1.00,      0.00,     0.00    ), # Inflammable\n",
    "( 0.50,      0.45,     0.05    ), # Defensible Space\n",
    "( 0.10,      0.20,     0.70    )) # Chaparral\n",
    "\n",
    "\n",
    "distr_of_A = np.random.gamma\n",
    "distr_of_R = np.random.gamma\n",
    "\n",
    "#          #------BARE-----#   #---GRASS--#   #---SHRUB---#\n",
    "A_params = ((np.nan, np.nan), (0.53, 3.01),   (1.50, 0.50))\n",
    "R_params = ((np.nan, np.nan), (1.00, 0.10),   (4.50, 1.40))\n",
    "\n",
    "R_distr = [parameterize(distr_of_R, *R_params[b]) for b in range(N_BIOMES)]\n",
    "        \n",
    "A_distr = [parameterize(distr_of_A, *A_params[b]) for b in range(N_BIOMES)]\n",
    "\n",
    "grid_dims = (100,100)\n",
    "cell_size_m = 10  # meters\n",
    "\n",
    "B = np.zeros(shape=grid_dims,dtype=int)\n",
    "B[int(grid_dims[0]/3):int(2*grid_dims[0]/3)] = 1\n",
    "B[int(2*grid_dims[0]/3):] = 2\n",
    "\n",
    "L = np.zeros_like(B,dtype=int)\n",
    "E = np.zeros_like(B,dtype=float)\n",
    "A = np.zeros_like(B,dtype=float)\n",
    "R = np.zeros_like(B,dtype=float)\n",
    "F = np.zeros_like(B,dtype=bool)\n",
    "\n",
    "fill_L(B, landcover_components, L)\n",
    "E[L == 0] = np.nan\n",
    "fill_A(L, A_distr, A)\n",
    "fill_R(L, R_distr, R)\n",
    "\n",
    "active = np.zeros(2, dtype=int)\n",
    "ignitions = np.array([0]), np.array([0])\n",
    "fires = np.zeros(B.size, dtype=int), np.zeros(B.size, dtype=int)\n",
    "ignite_fires(ignitions, fires, active, L, F)"
   ]
  },
  {
   "cell_type": "code",
   "execution_count": null,
   "metadata": {
    "collapsed": true
   },
   "outputs": [],
   "source": [
    "GRASS = 1\n",
    "SHRUB = 2\n",
    "\n",
    "def valid_parameters(A_params, R_params):\n",
    "    \"\"\"Evaluate the parameters w.r.t. the biophysical contraints.\n",
    "    \n",
    "    Ex. 1: The mean energy released by shrubs should exceed the mean\n",
    "    energy released by grasses.\n",
    "    \n",
    "    Ex. 2: The mean energy required to ignite shrubs should exceed\n",
    "    the same amount of energy required to ignite grasses.\n",
    "    \"\"\"\n",
    "    return (A_params[SHRUB][0] > A_parames[GRASS][0] and \n",
    "            A_params[SHRUB][1] > A_parames[GRASS][1] and\n",
    "            R_params[SHRUB][0] > R_params[GRASS][0] and\n",
    "            R_params[SHRUB][1] > R_params[GRASS][1])"
   ]
  },
  {
   "cell_type": "code",
   "execution_count": null,
   "metadata": {
    "collapsed": true
   },
   "outputs": [],
   "source": [
    "# @property\n",
    "# def params(self, A_params, R_params):\n",
    "#     return self.A_params, self.R_params\n",
    "\n",
    "# @params.setter\n",
    "# def params(self,A_R_params):\n",
    "#     self.A_params, self.R_params = A_R_params\n",
    "#     self.reparameterize()\n",
    "\n",
    "# def reparameterize(self):\n",
    "#     \"\"\"Reparameterize the distributions based on current parameters.\"\"\"\n",
    "#     self.R_distr = [parameterize_distr(self.distr_of_A, *self.R_params[b])\n",
    "#                     for b in range(self.N_BIOMES)]\n",
    "    \n",
    "#     self.A_distr = [parameterize_distr(self.distr_of_B, *self.A_params[b])\n",
    "#                     for b in range(self.N_BIOMES)]"
   ]
  },
  {
   "cell_type": "code",
   "execution_count": null,
   "metadata": {
    "collapsed": false
   },
   "outputs": [],
   "source": [
    "\"\"\"A fire simulation.\"\"\"\n",
    "class Simulation:\n",
    "    def __init__(self, B, landcover_distr, A_distr, R_distr):\n",
    "        \"\"\"Instantiate the simulation with a Biome map and landcover,\n",
    "        A and R distributions.\"\"\"\n",
    "        \n",
    "        # Environmental Fields\n",
    "        self.B = B.copy()\n",
    "        self._N_BIOMES = len(landscover_distr)\n",
    "        self._N_LANDCOVERS = len(distr_of_A)\n",
    "        self.landcover_distr = landcover_distr\n",
    "        self.A_distr = A_distr\n",
    "        self.R_distr = R_distr\n",
    "        self.L = np.zeros_like(B, dtype=int)\n",
    "        \n",
    "        # 'Energy' Fields\n",
    "        self.E = np.zeros_like(B, dtype=float)\n",
    "        self.A = np.zeros_like(B, dtype=float)\n",
    "        self.R = np.zeros_like(B, dtype=float)\n",
    "        self.F = np.zeros_like(B, dtype=int)\n",
    "        \n",
    "        # Fires\n",
    "        self.fires = np.zeros(shape=(B.size,2),dtype=int)\n",
    "        self.active = np.zeros(2, dtype=int)\n",
    "        self.reset()\n",
    "    \n",
    "    \n",
    "    def resample_landcover(self):\n",
    "        \"\"\"Generate new L from the Band landcover distributions.\"\"\"\n",
    "        fill_L(self.B, self.landcover_distr, self.L)\n",
    "        self.inflammable = np.where(L==0)\n",
    "    \n",
    "    \n",
    "    def reset():\n",
    "        \"\"\"Generate new random fields for simulation.\"\"\"\n",
    "        fill_L(self.B, lc_params, self.L)\n",
    "        self.E[:] = 0.0\n",
    "        self.E[self.inflammable] = np.nan\n",
    "        fill_A(self.L, self.A_distr, self.A)\n",
    "        fill_R(self.R, self.R_distr, self.R)\n",
    "        self.F[:] = 0\n",
    "        self.active[:] = 0, 0\n",
    "        self.fires[:] = 0\n",
    "    \n",
    "    \n",
    "    def ignite_fires(self, ignitions):\n",
    "        assert len(ignitions) == 2 and len(ignitions[0]) == len(ignitions[1])\n",
    "        ignitions = np.array(ignitions[0]), np.array(ignitions[1])\n",
    "        ignite_fires(ignitions, self.fires, self.active, self.L, self.F)\n",
    "    \n",
    "    \n",
    "    def iterate(self):\n",
    "        \"\"\"Burn an iteration of fires.\"\"\"\n",
    "        return burn_next_iteration(self.fires, self.active, self.F, self.L)\n",
    "    \n",
    "    \n",
    "    def run(self, ignitions):\n",
    "        \"\"\"Ignite fires and burn until propagation halts.\"\"\"\n",
    "        self.reset()\n",
    "        while iterate(self.fires, self.active, self.F, self.L):\n",
    "            pass\n",
    "        \n",
    "    \n",
    "    \n",
    "### Implement Gamma\n",
    "### Can we derive the integral of the Gamma distribution\n",
    "### To get the expected value of exceedance?\n",
    "\n",
    "#sim = Simulation(B)\n",
    "#sim.B"
   ]
  },
  {
   "cell_type": "code",
   "execution_count": null,
   "metadata": {
    "collapsed": false
   },
   "outputs": [],
   "source": [
    "# Needed for simulation\n",
    "B = np.zeros((50,50))\n",
    "\n",
    "A_distr = parameterize(np.\n"
   ]
  },
  {
   "cell_type": "code",
   "execution_count": null,
   "metadata": {
    "collapsed": false
   },
   "outputs": [],
   "source": [
    "np.array([0,0,0,1,1,1],dtype=bool).astype(float)"
   ]
  },
  {
   "cell_type": "code",
   "execution_count": null,
   "metadata": {
    "collapsed": true
   },
   "outputs": [],
   "source": []
  },
  {
   "cell_type": "code",
   "execution_count": null,
   "metadata": {
    "collapsed": false
   },
   "outputs": [],
   "source": [
    "0"
   ]
  },
  {
   "cell_type": "code",
   "execution_count": null,
   "metadata": {
    "collapsed": true
   },
   "outputs": [],
   "source": []
  },
  {
   "cell_type": "code",
   "execution_count": null,
   "metadata": {
    "collapsed": true
   },
   "outputs": [],
   "source": []
  }
 ],
 "metadata": {
  "kernelspec": {
   "display_name": "Python 3",
   "language": "python",
   "name": "python3"
  },
  "language_info": {
   "codemirror_mode": {
    "name": "ipython",
    "version": 3
   },
   "file_extension": ".py",
   "mimetype": "text/x-python",
   "name": "python",
   "nbconvert_exporter": "python",
   "pygments_lexer": "ipython3",
   "version": "3.4.4"
  }
 },
 "nbformat": 4,
 "nbformat_minor": 0
}
