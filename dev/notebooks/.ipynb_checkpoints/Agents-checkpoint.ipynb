{
 "cells": [
  {
   "cell_type": "code",
   "execution_count": 124,
   "metadata": {
    "collapsed": false
   },
   "outputs": [],
   "source": [
    "import sys\n",
    "sys.path.append('../')\n",
    "sys.dont_write_bytecode = True\n",
    "import os\n",
    "import numpy as np\n",
    "import scipy.ndimage\n",
    "from matplotlib.pyplot import *\n",
    "%matplotlib inline\n",
    "import numba\n",
    "sys.path.append('/Users/Michael_Saha/Repositories/')\n",
    "sys.path.append('./../../../')\n",
    "from fire_sim import *"
   ]
  },
  {
   "cell_type": "code",
   "execution_count": 4,
   "metadata": {
    "collapsed": true
   },
   "outputs": [],
   "source": [
    "# Break into classes:\n",
    "#\n",
    "#    Landscape -> Environmental variables and fire history\n",
    "#    Town -> Container for agents to loop over\n",
    "#    \n",
    "#    Calibration -> Contains a Landscape and manages the training/evaluation of \n",
    "#        fire behaviour against historical fire data.\n",
    "#\n",
    "#    ABM -> Container for parameterized Landscape and Towns of peoples.\n",
    "#        Town (and home) behaviours depend on the Landscape and Town behaviours."
   ]
  },
  {
   "cell_type": "code",
   "execution_count": 13,
   "metadata": {
    "collapsed": false,
    "scrolled": false
   },
   "outputs": [
    {
     "name": "stdout",
     "output_type": "stream",
     "text": [
      "foo (int64, array(int64, 1d, C))\n",
      "--------------------------------------------------------------------------------\n",
      "# File: <ipython-input-13-f9e15422226f>\n",
      "# --- LINE 1 --- \n",
      "\n",
      "@numba.jit(nopython=True)\n",
      "\n",
      "# --- LINE 2 --- \n",
      "\n",
      "def foo(x, y):\n",
      "\n",
      "    # --- LINE 3 --- \n",
      "    # label 0\n",
      "    #   x = arg(0, name=x)  :: int64\n",
      "    #   y = arg(1, name=y)  :: array(int64, 1d, C)\n",
      "    #   $0.3 = x + y  :: array(int64, 1d, C)\n",
      "    #   del y\n",
      "    #   del x\n",
      "    #   $0.4 = cast(value=$0.3)  :: array(int64, 1d, C)\n",
      "    #   del $0.3\n",
      "    #   return $0.4\n",
      "\n",
      "    return x + y\n",
      "\n",
      "\n",
      "================================================================================\n"
     ]
    }
   ],
   "source": [
    "@numba.jit(nopython=True)\n",
    "def foo(x, y):\n",
    "    return x + y\n",
    "\n",
    "y = np.array([1,2,3,4,5,6])\n",
    "\n",
    "foo(6,y)\n",
    "foo.inspect_types()"
   ]
  },
  {
   "cell_type": "code",
   "execution_count": 25,
   "metadata": {
    "collapsed": false
   },
   "outputs": [
    {
     "data": {
      "text/plain": [
       "17.079015524761836"
      ]
     },
     "execution_count": 25,
     "metadata": {},
     "output_type": "execute_result"
    }
   ],
   "source": [
    "find_kernel_denominator()"
   ]
  },
  {
   "cell_type": "code",
   "execution_count": 36,
   "metadata": {
    "collapsed": false
   },
   "outputs": [],
   "source": [
    "class Town:\n",
    "    def __init__(self, homes, initial_ds, risk, effect, policy, model):\n",
    "        \"\"\"Initialize a Town.\n",
    "        \n",
    "        Arguments:\n",
    "            homes - 2-tuple of numpy.ndarray(size=N)\n",
    "            initial_ds - numpy.ndarray(size=N, dtpye=float, range=[0,1])\n",
    "            risk - numpy.ndarray(size=N, dtype=float)\n",
    "            effect - numpy.ndarray(size=N, dtype=float)\n",
    "            policy - numpy.ndarray(size=N, dtype=float)\n",
    "            link - Callable that combines (risk, effect, policy, norms, experience) and returns ds: flaot [0,1]\n",
    "            \n",
    "        Notes:\n",
    "            risk is \"realized_risk\" = risk * risk_beta and is static for each agent\n",
    "            effect is \"realized_effect\" = effect * effect_beta\n",
    "            policy is \"realized_policy\" = policy * policy_beta\n",
    "        \"\"\"\n",
    "        self.homes = homes   # y, x\n",
    "        self.ds = initial_ds\n",
    "        self.betas = betas\n",
    "        self.model = model\n",
    "    \n",
    "    @property\n",
    "    def norms(self):\n",
    "        return np.mean(self.ds)\n",
    "    \n",
    "    \n",
    "    def update_ds(self):\n",
    "        model(self.betas, self.risk_effect_pol, self.close_fires)\n",
    "\n",
    "\n",
    "\n",
    "@numba.jit(nopython=True)\n",
    "def min_distances(A, B, distances):\n",
    "    \"\"\"Find the minimum distance of each pixel in A to any pixel in B.\"\"\"\n",
    "    assert A[0].size == A[1].size\n",
    "    assert B[0].size == B[1].size\n",
    "    assert A[0].size > 0 and B[0].size > 0\n",
    "    for i in range(A[0].size):\n",
    "        distances[i] = euclidean_distance(A[0][i], A[1][i], B[0][0], B[1][0])\n",
    "        for j in range(B[0].size):\n",
    "            d = euclidean_distance(A[0][i], A[1][i], B[0][j], B[1][j])\n",
    "            if d < distances[i]:\n",
    "                distances[i] = d\n",
    "    \n",
    "\n",
    "class ABM:\n",
    "    \"\"\"Coupled Towns and Landscapes\"\"\"\n",
    "    \n",
    "    def __init__(towns, landscape):\n",
    "        assert all(all_in_range(town) for town in towns)\n",
    "        self.landscape = landscape\n",
    "        self.towns = towns\n",
    "    \n",
    "    \n",
    "    def nearest_fires(self):\n",
    "        \"\"\"Find the nearest fire in the past five years.\"\"\"\n",
    "        for town in self.towns:\n",
    "            for fire in zip(self.landscape.past_fires, self.landscape.past_fire_map)\n",
    "                distance_to_last_fire(town.homes, fire, distances)\n",
    "    \n",
    "    def update_ds(self):\n",
    "        \"\"\"Update defensible space on the landscape using the thinning algorithm.\"\"\"\n",
    "        town[ds] = f(town, landscape, model, betas)\n",
    "        \n",
    "    def clear_ds(self):\n",
    "        pass\n",
    "        \n",
    "    def update(self):\n",
    "        self.update_ds()\n",
    "        self.clear_ds()"
   ]
  },
  {
   "cell_type": "code",
   "execution_count": 46,
   "metadata": {
    "collapsed": false
   },
   "outputs": [
    {
     "name": "stdout",
     "output_type": "stream",
     "text": [
      "1000 loops, best of 3: 948 µs per loop\n"
     ]
    }
   ],
   "source": [
    "A = np.arange(1000), np.arange(1000)\n",
    "B = np.arange(100,200), np.arange(100,200)\n",
    "\n",
    "distance = np.zeros(A[0].size)\n",
    "%timeit d = min_distances(A, B, distance)"
   ]
  },
  {
   "cell_type": "code",
   "execution_count": null,
   "metadata": {
    "collapsed": true
   },
   "outputs": [],
   "source": [
    "# tuple of numpy arrays\n",
    "# "
   ]
  }
 ],
 "metadata": {
  "kernelspec": {
   "display_name": "Python 3",
   "language": "python",
   "name": "python3"
  },
  "language_info": {
   "codemirror_mode": {
    "name": "ipython",
    "version": 3
   },
   "file_extension": ".py",
   "mimetype": "text/x-python",
   "name": "python",
   "nbconvert_exporter": "python",
   "pygments_lexer": "ipython3",
   "version": "3.4.4"
  }
 },
 "nbformat": 4,
 "nbformat_minor": 0
}
