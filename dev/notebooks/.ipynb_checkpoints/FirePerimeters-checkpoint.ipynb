{
 "cells": [
  {
   "cell_type": "code",
   "execution_count": 1,
   "metadata": {
    "collapsed": false,
    "scrolled": true
   },
   "outputs": [
    {
     "name": "stderr",
     "output_type": "stream",
     "text": [
      "Vendor:  Continuum Analytics, Inc.\n",
      "Package: mkl\n",
      "Message: trial mode expires in 20 days\n"
     ]
    }
   ],
   "source": [
    "import sys\n",
    "sys.path.append('../')\n",
    "sys.dont_write_bytecode = True\n",
    "import os\n",
    "import numpy as np\n",
    "import scipy\n",
    "import scipy.ndimage\n",
    "\n",
    "sys.path.append('/Users/Michael_Saha/Repositories/blahb')\n",
    "import blahb\n",
    "\n",
    "from matplotlib.pyplot import *\n",
    "%matplotlib inline\n",
    "import numba\n",
    "sys.path.append('/Users/Michael_Saha/Repositories/')\n",
    "sys.path.append('./../../../')\n",
    "from fire_sim import *\n",
    "\n",
    "import shapefile"
   ]
  },
  {
   "cell_type": "code",
   "execution_count": 5,
   "metadata": {
    "collapsed": false
   },
   "outputs": [],
   "source": [
    "shpfile = 'E:/DATA/FotF/burn_perims_new/fire_burn_hist_proj2.shp'\n",
    "sf = shapefile.Reader(shpfile)"
   ]
  },
  {
   "cell_type": "code",
   "execution_count": 6,
   "metadata": {
    "collapsed": false
   },
   "outputs": [
    {
     "name": "stdout",
     "output_type": "stream",
     "text": [
      "1412\n"
     ]
    }
   ],
   "source": [
    "shapes = list(sf.shapes())\n",
    "print(len(shapes))"
   ]
  },
  {
   "cell_type": "code",
   "execution_count": 66,
   "metadata": {
    "collapsed": false
   },
   "outputs": [
    {
     "data": {
      "text/plain": [
       "<matplotlib.image.AxesImage at 0x22351748>"
      ]
     },
     "execution_count": 66,
     "metadata": {},
     "output_type": "execute_result"
    },
    {
     "data": {
      "image/png": "[encoded data removed]",
      "text/plain": [
       "<matplotlib.figure.Figure at 0x76d16ef0>"
      ]
     },
     "metadata": {},
     "output_type": "display_data"
    }
   ],
   "source": [
    "imshow(blahb.polygon2d(y,x, filled=True).img)"
   ]
  },
  {
   "cell_type": "code",
   "execution_count": 67,
   "metadata": {
    "collapsed": false
   },
   "outputs": [],
   "source": [
    "fires = []\n",
    "count = 0\n",
    "for i in range(len(sf.shapes())):\n",
    "    year = int(sf.record(i)[0])\n",
    "    if year < 2000:\n",
    "        continue\n",
    "    shp = sf.shape(i)\n",
    "    x, y = zip(*shp.points)\n",
    "    x, y = (np.array(x)/10).astype(int), (np.array(y)/10).astype(int)\n",
    "    \n",
    "    fires.append(blahb.polygon2d(y, x, filled=True))"
   ]
  },
  {
   "cell_type": "code",
   "execution_count": 59,
   "metadata": {
    "collapsed": false
   },
   "outputs": [
    {
     "data": {
      "text/plain": [
       "Blob([367204:367894],[52758:53725], n=355807)"
      ]
     },
     "execution_count": 59,
     "metadata": {},
     "output_type": "execute_result"
    }
   ],
   "source": [
    "fires[6]"
   ]
  },
  {
   "cell_type": "code",
   "execution_count": 81,
   "metadata": {
    "collapsed": false
   },
   "outputs": [
    {
     "data": {
      "text/plain": [
       "<matplotlib.image.AxesImage at 0x248353c8>"
      ]
     },
     "execution_count": 81,
     "metadata": {},
     "output_type": "execute_result"
    },
    {
     "data": {
      "image/png": "[encoded data removed]",
      "text/plain": [
       "<matplotlib.figure.Figure at 0x249d1f28>"
      ]
     },
     "metadata": {},
     "output_type": "display_data"
    }
   ],
   "source": [
    "imshow(fires[29].img)"
   ]
  },
  {
   "cell_type": "code",
   "execution_count": 80,
   "metadata": {
    "collapsed": false
   },
   "outputs": [
    {
     "data": {
      "text/plain": [
       "((0, Blob([368910:368935],[48709:48732], n=372)),\n",
       " (1, Blob([370169:370199],[46952:46974], n=491)),\n",
       " (2, Blob([366269:366396],[52727:52889], n=12743)),\n",
       " (3, Blob([363998:364291],[55078:55336], n=47115)),\n",
       " (4, Blob([363082:363383],[55497:55844], n=63458)),\n",
       " (5, Blob([369213:369472],[49051:49211], n=23353)),\n",
       " (6, Blob([367204:367894],[52758:53725], n=355807)),\n",
       " (7, Blob([361596:361688],[56550:56662], n=3754)),\n",
       " (8, Blob([368749:368791],[50300:50342], n=1003)),\n",
       " (9, Blob([361768:361947],[54170:54443], n=30121)),\n",
       " (10, Blob([364150:368762],[53447:55258], n=2503201)),\n",
       " (11, Blob([362540:362565],[53640:53699], n=839)),\n",
       " (12, Blob([362494:362665],[54857:54966], n=9921)),\n",
       " (13, Blob([361297:361316],[54722:54754], n=383)),\n",
       " (14, Blob([366177:366290],[54339:54590], n=11174)),\n",
       " (15, Blob([369061:369097],[49394:49422], n=670)),\n",
       " (16, Blob([367915:367978],[48815:48900], n=3959)),\n",
       " (17, Blob([361637:361674],[50805:50819], n=422)),\n",
       " (18, Blob([368266:368373],[53486:53672], n=3041)),\n",
       " (19, Blob([360985:361017],[54930:54956], n=502)),\n",
       " (20, Blob([360684:360767],[50751:50880], n=4760)),\n",
       " (21, Blob([361133:361246],[52806:52964], n=11155)),\n",
       " (22, Blob([360461:360567],[54140:54353], n=11224)),\n",
       " (23, Blob([368273:368344],[55140:55264], n=3977)),\n",
       " (24, Blob([362587:362630],[54732:54753], n=722)),\n",
       " (25, Blob([360196:360213],[51088:51106], n=196)),\n",
       " (26, Blob([364880:364905],[54433:54474], n=421)),\n",
       " (27, Blob([360200:360219],[51164:51236], n=982)),\n",
       " (28, Blob([366301:368325],[49541:52069], n=2394897)),\n",
       " (29, Blob([362724:366663],[48398:55149], n=11563453)),\n",
       " (30, Blob([361591:362466],[52903:54243], n=676871)),\n",
       " (31, Blob([360910:360968],[58017:58045], n=1250)),\n",
       " (32, Blob([367121:367158],[49773:49795], n=525)),\n",
       " (33, Blob([369534:370088],[46090:46892], n=280116)),\n",
       " (34, Blob([360187:361872],[50630:52273], n=1812320)),\n",
       " (35, Blob([361428:361459],[54641:54670], n=638)),\n",
       " (36, Blob([365745:365857],[51824:51934], n=4306)),\n",
       " (37, Blob([366237:366276],[55186:55234], n=1124)),\n",
       " (38, Blob([365903:365925],[49902:49930], n=369)),\n",
       " (39, Blob([361800:361882],[56256:56301], n=1059)),\n",
       " (40, Blob([360517:360753],[54263:54750], n=34399)),\n",
       " (41, Blob([362693:362801],[51275:51314], n=2391)),\n",
       " (42, Blob([368665:368777],[53411:53468], n=4254)),\n",
       " (43, Blob([360789:360826],[56937:56973], n=930)),\n",
       " (44, Blob([366035:366076],[53607:53716], n=1370)),\n",
       " (45, Blob([361845:361980],[52589:52909], n=20471)),\n",
       " (46, Blob([360525:360569],[50987:51045], n=1608)),\n",
       " (47, Blob([360817:360849],[57124:57216], n=1807)),\n",
       " (48, Blob([363460:363516],[51522:51600], n=1854)),\n",
       " (49, Blob([368926:369943],[53234:54481], n=758884)),\n",
       " (50, Blob([360580:360849],[53521:54064], n=58038)),\n",
       " (51, Blob([361481:361571],[54090:54290], n=11387)),\n",
       " (52, Blob([364275:364387],[49678:49841], n=11057)),\n",
       " (53, Blob([361358:361392],[53064:53087], n=504)),\n",
       " (54, Blob([361324:361379],[56170:56282], n=3131)),\n",
       " (55, Blob([364011:364072],[51057:51147], n=3819)),\n",
       " (56, Blob([363957:363992],[50970:51025], n=975)),\n",
       " (57, Blob([369201:370286],[49328:50220], n=476380)),\n",
       " (58, Blob([360889:361278],[52918:53267], n=54128)),\n",
       " (59, Blob([361812:361913],[56337:56549], n=8953)),\n",
       " (60, Blob([365898:366026],[53896:54061], n=10096)),\n",
       " (61, Blob([363129:363191],[54196:54328], n=5089)),\n",
       " (62, Blob([361407:361453],[57257:57330], n=2019)),\n",
       " (63, Blob([362941:362989],[56173:56224], n=1085)),\n",
       " (64, Blob([362404:363401],[51531:53159], n=425424)),\n",
       " (65, Blob([369099:369780],[47113:47923], n=231009)),\n",
       " (66, Blob([368103:368117],[48394:48409], n=137)),\n",
       " (67, Blob([364426:364464],[50419:50488], n=1819)),\n",
       " (68, Blob([360929:360954],[58044:58064], n=316)),\n",
       " (69, Blob([361599:361624],[53412:53469], n=567)),\n",
       " (70, Blob([362296:362395],[57220:57276], n=951)),\n",
       " (71, Blob([360458:360480],[53686:53746], n=870)),\n",
       " (72, Blob([361196:361308],[51576:51809], n=13178)),\n",
       " (73, Blob([360210:360271],[51171:51251], n=2702)),\n",
       " (74, Blob([360989:361039],[51816:51875], n=1876)),\n",
       " (75, Blob([364229:364306],[50486:50542], n=2383)),\n",
       " (76, Blob([360821:361004],[54441:54674], n=28068)),\n",
       " (77, Blob([362954:363038],[51492:51572], n=3573)),\n",
       " (78, Blob([361662:361695],[57597:57635], n=565)),\n",
       " (79, Blob([370338:370502],[45567:45654], n=7374)),\n",
       " (80, Blob([369017:369049],[47089:47110], n=501)),\n",
       " (81, Blob([362539:362604],[50990:51053], n=2339)),\n",
       " (82, Blob([366633:366771],[54382:54482], n=7469)),\n",
       " (83, Blob([366337:366425],[55121:55230], n=2175)),\n",
       " (84, Blob([368225:368259],[47859:47885], n=537)),\n",
       " (85, Blob([368458:368619],[47976:48222], n=8965)),\n",
       " (86, Blob([368877:369871],[47855:48720], n=385381)),\n",
       " (87, Blob([367352:369672],[49865:51737], n=2003765)),\n",
       " (88, Blob([361572:361603],[52675:52744], n=1093)),\n",
       " (89, Blob([360908:360929],[52523:52557], n=505)),\n",
       " (90, Blob([360155:360160],[50684:50690], n=29)),\n",
       " (91, Blob([368240:368261],[50514:50541], n=376)),\n",
       " (92, Blob([361731:361758],[50516:50533], n=282)),\n",
       " (93, Blob([368235:368246],[50485:50519], n=260)),\n",
       " (94, Blob([363952:364089],[51249:51352], n=8977)),\n",
       " (95, Blob([360503:360538],[53999:54076], n=1395)),\n",
       " (96, Blob([360276:360378],[51687:51870], n=5274)),\n",
       " (97, Blob([361028:361097],[55160:55334], n=5541)),\n",
       " (98, Blob([369095:369247],[48966:49026], n=4463)),\n",
       " (99, Blob([364600:364735],[53141:53407], n=14659)),\n",
       " (100, Blob([362479:362976],[54090:54567], n=86157)),\n",
       " (101, Blob([361479:361503],[54105:54159], n=782)),\n",
       " (102, Blob([369427:369625],[49620:49733], n=2636)),\n",
       " (103, Blob([360258:360655],[52211:53085], n=157528)),\n",
       " (104, Blob([364548:364674],[52048:52186], n=10557)),\n",
       " (105, Blob([369124:369184],[49470:49644], n=4267)),\n",
       " (106, Blob([363847:364096],[51595:51830], n=39086)),\n",
       " (107, Blob([365999:366267],[53713:54138], n=34481)),\n",
       " (108, Blob([366460:366518],[48529:48583], n=2441)),\n",
       " (109, Blob([361091:361116],[52976:53029], n=899)),\n",
       " (110, Blob([363838:367693],[48128:53375], n=6569298)),\n",
       " (111, Blob([360271:362135],[50116:54069], n=3678586)),\n",
       " (112, Blob([361496:361570],[50863:50988], n=4824)),\n",
       " (113, Blob([360926:360984],[50982:51036], n=1488)),\n",
       " (114, Blob([360344:360367],[52028:52050], n=369)),\n",
       " (115, Blob([360246:360274],[50987:51049], n=842)),\n",
       " (116, Blob([361836:361873],[55649:55693], n=858)),\n",
       " (117, Blob([361229:361277],[55954:56029], n=2142)),\n",
       " (118, Blob([361619:361645],[55838:55864], n=472)),\n",
       " (119, Blob([360306:360385],[52461:52535], n=3465)),\n",
       " (120, Blob([367205:367235],[52786:52826], n=755)),\n",
       " (121, Blob([366008:366112],[50552:50674], n=4198)),\n",
       " (122, Blob([361182:361298],[52000:52106], n=5663)),\n",
       " (123, Blob([368149:369522],[44836:46396], n=871478)),\n",
       " (124, Blob([360598:360618],[52258:52290], n=513)),\n",
       " (125, Blob([361526:361611],[53344:53458], n=5142)),\n",
       " (126, Blob([360590:360712],[50917:51090], n=13960)),\n",
       " (127, Blob([366542:366778],[53634:53865], n=25351)),\n",
       " (128, Blob([360639:360698],[52965:52996], n=954)),\n",
       " (129, Blob([366035:366087],[53903:54035], n=4008)),\n",
       " (130, Blob([360560:360674],[53991:54052], n=4564)),\n",
       " (131, Blob([360704:360726],[51848:51879], n=480)),\n",
       " (132, Blob([361121:361168],[57536:57592], n=1708)),\n",
       " (133, Blob([361669:361715],[56448:56512], n=1532)),\n",
       " (134, Blob([368892:369008],[50108:50160], n=2750)),\n",
       " (135, Blob([369519:369571],[52586:52672], n=1891)),\n",
       " (136, Blob([360421:360462],[53332:53448], n=1984)),\n",
       " (137, Blob([360323:360391],[52381:52494], n=4809)),\n",
       " (138, Blob([368407:368451],[47912:47942], n=813)),\n",
       " (139, Blob([368244:368322],[50412:50464], n=1907)),\n",
       " (140, Blob([360564:360674],[52569:52717], n=10576)),\n",
       " (141, Blob([366358:366380],[51381:51429], n=767)),\n",
       " (142, Blob([361929:362093],[53180:53307], n=9631)),\n",
       " (143, Blob([366909:366931],[48738:48772], n=513)),\n",
       " (144, Blob([369947:370343],[45409:45766], n=76597)),\n",
       " (145, Blob([368535:368559],[49632:49656], n=352)),\n",
       " (146, Blob([368168:368187],[50493:50519], n=283)),\n",
       " (147, Blob([361306:361346],[55294:55367], n=1210)),\n",
       " (148, Blob([368898:368906],[50352:50360], n=42)),\n",
       " (149, Blob([364861:364961],[53242:53420], n=10100)),\n",
       " (150, Blob([368533:368926],[52983:53428], n=110383)),\n",
       " (151, Blob([364161:364274],[50014:50224], n=15483)),\n",
       " (152, Blob([368053:369211],[54281:55429], n=569799)),\n",
       " (153, Blob([365619:365977],[54430:54861], n=87085)),\n",
       " (154, Blob([361430:361515],[53303:53439], n=6646)),\n",
       " (155, Blob([360780:360830],[56875:57267], n=5366)),\n",
       " (156, Blob([360202:360222],[51177:51251], n=558)),\n",
       " (157, Blob([369712:369725],[53160:53167], n=70)),\n",
       " (158, Blob([360798:361051],[55792:56699], n=104675)),\n",
       " (159, Blob([369258:369647],[52414:52780], n=81876)),\n",
       " (160, Blob([366181:366195],[53726:53741], n=141)),\n",
       " (161, Blob([366234:367030],[54211:55298], n=454080)),\n",
       " (162, Blob([366927:367587],[54421:55591], n=474051)),\n",
       " (163, Blob([369809:369821],[53035:53047], n=94)),\n",
       " (164, Blob([360804:360819],[57108:57192], n=546)),\n",
       " (165, Blob([360588:360699],[52195:52296], n=7672)),\n",
       " (166, Blob([361031:361083],[56236:56270], n=955)),\n",
       " (167, Blob([369297:369512],[49241:49388], n=8005)),\n",
       " (168, Blob([360789:360857],[52040:52124], n=3114)),\n",
       " (169, Blob([360257:360341],[52093:52169], n=2419)),\n",
       " (170, Blob([361886:362027],[54830:54907], n=5954)),\n",
       " (171, Blob([365423:366021],[54778:55509], n=216675)),\n",
       " (172, Blob([362030:362052],[55308:55340], n=498)),\n",
       " (173, Blob([361609:361874],[55782:56071], n=40800)),\n",
       " (174, Blob([365243:365398],[54521:54752], n=21392)),\n",
       " (175, Blob([360788:360816],[56930:57074], n=2313)),\n",
       " (176, Blob([369391:369459],[51626:51651], n=664)))"
      ]
     },
     "execution_count": 80,
     "metadata": {},
     "output_type": "execute_result"
    }
   ],
   "source": [
    "tuple(zip(range(len(fires)),fires))"
   ]
  },
  {
   "cell_type": "code",
   "execution_count": null,
   "metadata": {
    "collapsed": false
   },
   "outputs": [],
   "source": [
    "plot(*zip(*shp.points))"
   ]
  },
  {
   "cell_type": "code",
   "execution_count": null,
   "metadata": {
    "collapsed": false
   },
   "outputs": [],
   "source": [
    "shp.points"
   ]
  },
  {
   "cell_type": "code",
   "execution_count": null,
   "metadata": {
    "collapsed": true
   },
   "outputs": [],
   "source": []
  },
  {
   "cell_type": "code",
   "execution_count": null,
   "metadata": {
    "collapsed": true
   },
   "outputs": [],
   "source": []
  },
  {
   "cell_type": "code",
   "execution_count": null,
   "metadata": {
    "collapsed": true
   },
   "outputs": [],
   "source": []
  },
  {
   "cell_type": "code",
   "execution_count": null,
   "metadata": {
    "collapsed": true
   },
   "outputs": [],
   "source": []
  },
  {
   "cell_type": "code",
   "execution_count": null,
   "metadata": {
    "collapsed": true
   },
   "outputs": [],
   "source": []
  },
  {
   "cell_type": "code",
   "execution_count": null,
   "metadata": {
    "collapsed": true
   },
   "outputs": [],
   "source": []
  },
  {
   "cell_type": "code",
   "execution_count": null,
   "metadata": {
    "collapsed": true
   },
   "outputs": [],
   "source": []
  },
  {
   "cell_type": "code",
   "execution_count": null,
   "metadata": {
    "collapsed": true
   },
   "outputs": [],
   "source": []
  },
  {
   "cell_type": "code",
   "execution_count": null,
   "metadata": {
    "collapsed": true
   },
   "outputs": [],
   "source": []
  }
 ],
 "metadata": {
  "kernelspec": {
   "display_name": "Python 3",
   "language": "python",
   "name": "python3"
  },
  "language_info": {
   "codemirror_mode": {
    "name": "ipython",
    "version": 3
   },
   "file_extension": ".py",
   "mimetype": "text/x-python",
   "name": "python",
   "nbconvert_exporter": "python",
   "pygments_lexer": "ipython3",
   "version": "3.4.4"
  }
 },
 "nbformat": 4,
 "nbformat_minor": 0
}
