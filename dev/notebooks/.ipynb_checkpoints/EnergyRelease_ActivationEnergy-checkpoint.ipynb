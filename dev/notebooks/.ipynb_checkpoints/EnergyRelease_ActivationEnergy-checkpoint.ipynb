{
 "cells": [
  {
   "cell_type": "code",
   "execution_count": 1,
   "metadata": {
    "collapsed": false
   },
   "outputs": [],
   "source": [
    "import sys\n",
    "sys.path.append('../')\n",
    "sys.dont_write_bytecode = True\n",
    "import os\n",
    "import numpy as np\n",
    "import scipy.ndimage\n",
    "from matplotlib.pyplot import *\n",
    "%matplotlib inline\n",
    "import numba\n",
    "sys.path.append('/Users/Michael_Saha/Repositories/')\n",
    "sys.path.append('./../../../')\n",
    "\n",
    "import fire_sim\n",
    "from fire_sim import *"
   ]
  },
  {
   "cell_type": "markdown",
   "metadata": {},
   "source": [
    "### Variable Descriptions\n",
    "```fires``` - The coordinates of all fires that have burnt. A 2-tuple of numpy arrays ($y,x$).\n",
    "\n",
    "```active``` - A 'cursor' that shows the range of pixels that are currently burning. This will be a contiguous range, as the active pixels will be visited in linear order. Simulation invariant: ```active[1]``` is the total number of fires that have started in the whole simulation. The $(y,x)$ coordinates all fires after the simulation has run is: ```(fires[0][:active[1]], fires[1][:active[1]])```\n",
    "\n",
    "```B``` - The 2d map of biomes. Each biome is associated with a distribution of land covers. For example, a chapparal biome would have more shrub land cover and a defensible space biome would have more inflammable land cover.\n",
    "\n",
    "```L``` - The 2d map of land cover types {inflammable, grass, shrub}. Each land cover type has burn properties that are drawn from a land-cover specific random distribution. Land cover type 0 is inflammable; it will not burn, accumulate energy, or release energy.\n",
    "\n",
    "```E``` - The 2d map of accumulated energies. This is the matrix where, after a nearby pixel has burned and transmitted its energy to a neighborhood, the energy is stored/tallied. This builds up over the whole course of the simulation (never decays temporally).\n",
    "\n",
    "```A``` - The 2d map of energies required ignite a cell. When ```E[i,j]``` exceeds ```A[i,j]```, then a fire ignites in the cell. These values are drawn from a gamma distribution with landcover-specific parameters.\n",
    "\n",
    "```R``` - 2d map of energy released when a cell is burned. The values in ```R``` are drawn from a gamma distribution with landcover-specific parameters. After ignition, the energy in ```R[i,j]``` is distributed among neighbors such that the total energy distributed is equal to ```R[i,j]```. The energy distributed to a givel pixel $p_{k,l}$ is equal to  \n",
    "$$\\frac{R_{i,j}}{d^{2}}f$$\n",
    "* $d$ is the Euclidean distance from pixel $(i,j)$ to pixel $(k,l)$  \n",
    "* $(i,j) \\ne (k,l)$  \n",
    "* $d<r$. We put an upper bound on the radius/neighborhood to which energy is delivered to speed up computation.  \n",
    "* $f$ is an adjustment factor: $f=\\frac{1}{\\Sigma{d^{2}}}$.  \n",
    "\n",
    "```F``` - The 2d map of all fires that have burnt. The pixel value at ```F[i,j]``` is a integer value indicating the iteration on which ```E[i,j]``` first exceeded the ```A[i,j]```. If ```F[i,j]``` is ```0```, then the pixel has not been burnt. \n"
   ]
  },
  {
   "cell_type": "code",
   "execution_count": 2,
   "metadata": {
    "collapsed": true
   },
   "outputs": [],
   "source": [
    "GRASS = 1\n",
    "SHRUB = 2\n",
    "\n",
    "def valid_parameters(A_params, R_params):\n",
    "    \"\"\"Evaluate the parameters w.r.t. the biophysical contraints.\n",
    "    \n",
    "    Ex. 1: The mean energy released by shrubs should exceed the mean\n",
    "    energy released by grasses.\n",
    "    \n",
    "    Ex. 2: The mean energy required to ignite shrubs should exceed\n",
    "    the same amount of energy required to ignite grasses.\n",
    "    \"\"\"\n",
    "    return (A_params[SHRUB][0] > A_parames[GRASS][0] and \n",
    "            A_params[SHRUB][1] > A_parames[GRASS][1] and\n",
    "            R_params[SHRUB][0] > R_params[GRASS][0] and\n",
    "            R_params[SHRUB][1] > R_params[GRASS][1])"
   ]
  },
  {
   "cell_type": "code",
   "execution_count": 36,
   "metadata": {
    "collapsed": false
   },
   "outputs": [],
   "source": [
    "# Needed for simulation\n",
    "B = np.zeros((1000,1000))\n",
    "B[int(B.shape[0]/2):] = 1\n",
    "\n",
    "landcover_distr = (0.25, 0.45, 0.3), (0.34, 0.36, 0.3)  # For each Biome\n",
    "\n",
    "#          Bare               Grass         Wood\n",
    "A_params = (np.nan, np.nan), (3.00, 0.30), (3.50, 0.30)\n",
    "R_params = (np.nan, np.nan), (2.00, 1.65), (1.60, 1.65)\n",
    "A_distr = [parameterize(np.random.gamma,*p) for p in A_params]\n",
    "R_distr = [parameterize(np.random.gamma,*p) for p in R_params]\n",
    "\n",
    "sim = Landscape(B, landcover_distr, A_distr, R_distr)\n",
    "#ignitions = tuple(a.flatten() for a in np.meshgrid(range(249,260),range(249,260)))\n",
    "#sim.ignite_fires(ignitions)"
   ]
  },
  {
   "cell_type": "code",
   "execution_count": 37,
   "metadata": {
    "collapsed": false
   },
   "outputs": [
    {
     "data": {
      "text/plain": [
       "<matplotlib.legend.Legend at 0x1795ab4a8>"
      ]
     },
     "execution_count": 37,
     "metadata": {},
     "output_type": "execute_result"
    },
    {
     "data": {
      "image/png": "[encoded data removed]",
      "text/plain": [
       "<matplotlib.figure.Figure at 0x179a8d668>"
      ]
     },
     "metadata": {},
     "output_type": "display_data"
    }
   ],
   "source": [
    "h = hist(sim.A[sim.L==1],100, histtype='step', normed='True', color='r', ls='dashed', label='LC 1, Activation')\n",
    "h = hist(sim.R[sim.L==1],100, histtype='step', normed='True', color='r', ls='solid', label='LC 1, Released')\n",
    "h = hist(sim.A[sim.L==2],100, histtype='step', normed='True', color='b', ls='dashed', label='LC 2, Activation')\n",
    "h = hist(sim.R[sim.L==2],100, histtype='step', normed='True', color='b', ls='solid', label='LC 2, Released')\n",
    "xlabel('Value')\n",
    "ylabel('Frequency')\n",
    "legend()"
   ]
  },
  {
   "cell_type": "code",
   "execution_count": 29,
   "metadata": {
    "collapsed": false
   },
   "outputs": [],
   "source": [
    "sim = Landscape(B, landcover_distr, A_distr, R_distr)\n",
    "ignitions = tuple(a.flatten() for a in np.meshgrid(range(500,550),range(240,260)))"
   ]
  },
  {
   "cell_type": "code",
   "execution_count": 30,
   "metadata": {
    "collapsed": false
   },
   "outputs": [
    {
     "name": "stdout",
     "output_type": "stream",
     "text": [
      "DONE\n",
      "CPU times: user 357 ms, sys: 22.3 ms, total: 379 ms\n",
      "Wall time: 379 ms\n"
     ]
    }
   ],
   "source": [
    "%%time\n",
    "sim.run(ignitions)"
   ]
  },
  {
   "cell_type": "code",
   "execution_count": 31,
   "metadata": {
    "collapsed": false
   },
   "outputs": [
    {
     "data": {
      "image/png": "[encoded data removed]",
      "text/plain": [
       "<matplotlib.figure.Figure at 0x10dffb470>"
      ]
     },
     "metadata": {},
     "output_type": "display_data"
    }
   ],
   "source": [
    "fig = figure(figsize=(10,10))\n",
    "sim.showF(ax=fig.add_subplot(111))"
   ]
  },
  {
   "cell_type": "code",
   "execution_count": 32,
   "metadata": {
    "collapsed": false,
    "scrolled": true
   },
   "outputs": [
    {
     "data": {
      "text/plain": [
       "<matplotlib.colorbar.Colorbar at 0x10e14c940>"
      ]
     },
     "execution_count": 32,
     "metadata": {},
     "output_type": "execute_result"
    },
    {
     "data": {
      "image/png": "[encoded data removed]",
      "text/plain": [
       "<matplotlib.figure.Figure at 0x179a4a7f0>"
      ]
     },
     "metadata": {},
     "output_type": "display_data"
    }
   ],
   "source": [
    "fig = figure()\n",
    "sim.showF()\n",
    "colorbar(label='Fire Iteration\\n(timestep when $E_{i,j} > A_{i,j}$)')\n",
    "#plot([0,500],[250,250],'k--'); #ylim(500,0);xlim(0,500)"
   ]
  },
  {
   "cell_type": "code",
   "execution_count": 33,
   "metadata": {
    "collapsed": false
   },
   "outputs": [
    {
     "data": {
      "text/plain": [
       "2000000000"
      ]
     },
     "execution_count": 33,
     "metadata": {},
     "output_type": "execute_result"
    }
   ],
   "source": [
    "(5000 * 5000) * 8 * 10"
   ]
  },
  {
   "cell_type": "code",
   "execution_count": 24,
   "metadata": {
    "collapsed": true
   },
   "outputs": [],
   "source": [
    "L = np.zeros((100,100))\n",
    "L[80:,95:] = 1\n",
    "n = 10\n",
    "pt = (20,20)\n"
   ]
  },
  {
   "cell_type": "code",
   "execution_count": 78,
   "metadata": {
    "collapsed": false
   },
   "outputs": [
    {
     "data": {
      "text/plain": [
       "array([5, 0, 4, 1, 2, 3], dtype=int64)"
      ]
     },
     "execution_count": 78,
     "metadata": {},
     "output_type": "execute_result"
    }
   ],
   "source": [
    "np.argpartition([1,5,6,7,3,1], 3)"
   ]
  },
  {
   "cell_type": "code",
   "execution_count": 35,
   "metadata": {
    "collapsed": false
   },
   "outputs": [
    {
     "data": {
      "text/plain": [
       "<matplotlib.image.AxesImage at 0x179a3c9e8>"
      ]
     },
     "execution_count": 35,
     "metadata": {},
     "output_type": "execute_result"
    },
    {
     "data": {
      "image/png": "[encoded data removed]",
      "text/plain": [
       "<matplotlib.figure.Figure at 0x1146cd3c8>"
      ]
     },
     "metadata": {},
     "output_type": "display_data"
    }
   ],
   "source": [
    "L = np.zeros((100,100))\n",
    "L[80:,95:] = 1\n",
    "closest = find_closest_flammable_cells(L,40,(20,20))\n",
    "L[closest] = 2\n",
    "imshow(L)"
   ]
  },
  {
   "cell_type": "code",
   "execution_count": null,
   "metadata": {
    "collapsed": true
   },
   "outputs": [],
   "source": []
  },
  {
   "cell_type": "code",
   "execution_count": null,
   "metadata": {
    "collapsed": true
   },
   "outputs": [],
   "source": []
  },
  {
   "cell_type": "code",
   "execution_count": null,
   "metadata": {
    "collapsed": true
   },
   "outputs": [],
   "source": []
  },
  {
   "cell_type": "code",
   "execution_count": null,
   "metadata": {
    "collapsed": true
   },
   "outputs": [],
   "source": []
  },
  {
   "cell_type": "code",
   "execution_count": null,
   "metadata": {
    "collapsed": true
   },
   "outputs": [],
   "source": []
  }
 ],
 "metadata": {
  "kernelspec": {
   "display_name": "Python 3",
   "language": "python",
   "name": "python3"
  },
  "language_info": {
   "codemirror_mode": {
    "name": "ipython",
    "version": 3
   },
   "file_extension": ".py",
   "mimetype": "text/x-python",
   "name": "python",
   "nbconvert_exporter": "python",
   "pygments_lexer": "ipython3",
   "version": "3.4.4"
  }
 },
 "nbformat": 4,
 "nbformat_minor": 0
}
