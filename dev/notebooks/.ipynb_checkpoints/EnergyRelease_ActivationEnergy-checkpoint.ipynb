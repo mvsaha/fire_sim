{
 "cells": [
  {
   "cell_type": "code",
   "execution_count": 2,
   "metadata": {
    "collapsed": false
   },
   "outputs": [],
   "source": [
    "import sys\n",
    "sys.path.append('../')\n",
    "sys.dont_write_bytecode = True\n",
    "import numpy as np\n",
    "from matplotlib.pyplot import *\n",
    "%matplotlib inline\n",
    "#matplotlib.rcParams['figure.facecolor'] = [0.37]*3\n",
    "import numba\n",
    "sys.path.append('/Users/Michael_Saha/Repositories/')\n",
    "from fire_sim import *"
   ]
  },
  {
   "cell_type": "markdown",
   "metadata": {},
   "source": [
    "### Fire Simulation\n",
    "#### Variable Descriptions\n",
    "```fires``` - The coordinates of all fires that have burnt. A 2-tuple of $(y,x)$ coordinates.\n",
    "\n",
    "```active``` - A 'cursor' that shows the range of pixels that are currently burning. This will be a contiguous range, as the active pixels will be visited in linear order. Simulation invariant: ```active[1]``` is the total number of fires that have started in the whole simulation. The $(y,x)$ coordinates all fires after the simulation has run is: ```(fires[0][:active[1]], fires[1][:active[1]])```\n",
    "\n",
    "```B``` - The 2d map of biomes. Each biome is associated with a distribution of land covers. For example, a chapparal biome would have more shrub land cover and a defensible space biome would have more inflammable land cover.\n",
    "\n",
    "```L``` - The 2d map of land cover types {e.g. inflammable, grass, shrub}. Each land cover type has burn properties that are drawn from a land-cover specific distribution. Land cover type 0 is inflammable; it will not burn, accumulate energy, or release energy.\n",
    "\n",
    "```E``` - The 2d accumulated energy. This is the matrix where, after a nearby pixel has burned and transmitted its energy to a neighborhood, the energy is 'stored' or tallied. This builds up over the whole course of the simulation (never decays temporally).\n",
    "\n",
    "```A``` - The 2d map of energies required ignite a cell. When ```E[i,j]``` exceeds ```A[i,j]```, then a fire ignites in the cell.\n",
    "\n",
    "```R``` - 2d map of energy released. When cell $(i,j)$ is ignited, the energy value in ```R[i,j]``` is distributed across neighbors.\n",
    "\n",
    "```F``` - The 2d map of all fires that have burnt. The pixel value at ```F[i,j]``` is a integer value indicating the iteration on which the pixel first exceeded the ```A[i,j]```. If ```F[i,j]``` is ```0```, then the pixel has not been burnt. \n"
   ]
  },
  {
   "cell_type": "code",
   "execution_count": 3,
   "metadata": {
    "collapsed": false
   },
   "outputs": [
    {
     "name": "stderr",
     "output_type": "stream",
     "text": [
      "/Users/Michael_Saha/Repositories/fire_sim/__init__.py:235: RuntimeWarning: invalid value encountered in less\n",
      "  x[x<0] = 0\n"
     ]
    },
    {
     "data": {
      "text/plain": [
       "0"
      ]
     },
     "execution_count": 3,
     "metadata": {},
     "output_type": "execute_result"
    }
   ],
   "source": [
    "N_BIOMES = 3\n",
    "N_LANDCOVERS = 3\n",
    "\n",
    "INFLAMMABLE,DEFENSIBLE_SPACE,CHAPARRAL = 0, 1, 2\n",
    "\n",
    "# Land Cover Type:\n",
    "landcover_components = (\n",
    "# p(Bare)   p(Grass)  p(Shrub)\n",
    "( 1.00,      0.00,     0.00    ), # Inflammable\n",
    "( 0.50,      0.45,     0.05    ), # Defensible Space\n",
    "( 0.10,      0.20,     0.70    )) # Chaparral\n",
    "\n",
    "distr_of_A = np.random.normal # Needs to be a 2 param distribution\n",
    "distr_of_R = np.random.gamma  \n",
    "\n",
    "#          #------BARE-----#   #---GRASS--#   #---SHRUB---#\n",
    "A_params = ((np.nan, np.nan), (0.53, 3.01),   (1.50, 0.50))\n",
    "R_params = ((np.nan, np.nan), (1.00, 0.10),   (4.50, 1.40))\n",
    "\n",
    "R_distr = [parameterize_truncate_distribution(distr_of_R, *R_params[b])\n",
    "                    for b in range(N_BIOMES)]\n",
    "        \n",
    "A_distr = [parameterize_truncate_distribution(distr_of_A, *A_params[b])\n",
    "                    for b in range(N_BIOMES)]\n",
    "\n",
    "grid_dims = (100,100)\n",
    "cell_size_m = 10  # meters\n",
    "\n",
    "B = np.zeros(shape=grid_dims,dtype=int)\n",
    "B[int(grid_dims[0]/3):int(2*grid_dims[0]/3)] = 1\n",
    "B[int(2*grid_dims[0]/3):] = 2\n",
    "\n",
    "L = np.zeros_like(B,dtype=int)\n",
    "E = np.zeros_like(B,dtype=float)\n",
    "A = np.zeros_like(B,dtype=float)\n",
    "R = np.zeros_like(B,dtype=float)\n",
    "F = np.zeros_like(B,dtype=bool)\n",
    "\n",
    "fill_L(N_BIOMES, B, landcover_components, L)\n",
    "E[L == 0] = np.nan\n",
    "fill_A(N_LANDCOVERS, L, A_distr, A)\n",
    "fill_R(N_LANDCOVERS, L, R_distr, R)\n",
    "\n",
    "active = np.zeros(2, dtype=int)\n",
    "ignitions = np.array([0]), np.array([0])\n",
    "fires = np.zeros(B.size, dtype=int), np.zeros(B.size, dtype=int)\n",
    "ignite_fires(ignitions, fires, active, L, F)"
   ]
  },
  {
   "cell_type": "code",
   "execution_count": 8,
   "metadata": {
    "collapsed": true
   },
   "outputs": [],
   "source": [
    "GRASS = 1\n",
    "SHRUB = 2\n",
    "\n",
    "def evaluate_constraints(A_params, R_params):\n",
    "    return (A_params[SHRUB][0] > A_parames[GRASS][0] and \n",
    "            A_params[SHRUB][1] > A_parames[GRASS][1] and\n",
    "            R_params[SHRUB][0] > R_params[GRASS][0] and\n",
    "            R_params[SHRUB][1] > R_params[GRASS][1])"
   ]
  },
  {
   "cell_type": "code",
   "execution_count": 35,
   "metadata": {
    "collapsed": false
   },
   "outputs": [],
   "source": [
    "\"\"\"A fire simulation.\"\"\"\n",
    "class Simulation:\n",
    "    def __init__(self, B, landcover_distr, distr_of_A, A_params, distr_of_R, R_params):\n",
    "        \"\"\"Instantiate the simulation with a Biome map and landcover, A and R distributions.\"\"\"\n",
    "        self.B = B\n",
    "        self._N_BIOMES = len(landscover_distr)\n",
    "        self._N_LANDCOVERS = len(distr_of_A)\n",
    "        self.landcover_distr = landcover_distr\n",
    "        self.distr_of_A = distr_of_A\n",
    "        self.distr_of_R = distr_of_R\n",
    "        \n",
    "        # Environmental Fields\n",
    "        self.L = np.zeros_like(B, dtype=int)\n",
    "        self.E = np.zeros_like(B, dtype=float)\n",
    "        self.A = np.zeros_like(B, dtype=float)\n",
    "        self.R = np.zeros_like(B, dtype=float)\n",
    "        self.F = np.zeros_like(B, dtype=int)\n",
    "        \n",
    "        self.fires = np.zeros(shape=(B.size,2),dtype=int)\n",
    "        self.active = np.zeros(2, dtype=int)\n",
    "        self.reset()\n",
    "    \n",
    "    @property\n",
    "    def N_BIOMES(self):\n",
    "        return self._N_BIOMES\n",
    "    \n",
    "    @property\n",
    "    def params(self, A_params, R_params):\n",
    "        return self.A_params, self.R_params\n",
    "    \n",
    "    @params.setter\n",
    "    def params(self,A_R_params):\n",
    "        self.A_params, self.R_params = A_R_params\n",
    "        self.reparameterize()\n",
    "    \n",
    "    def reparameterize(self):\n",
    "        \"\"\"Reparameterize the distributions based on current parameters.\"\"\"\n",
    "        self.R_distr = [parameterize_truncate_distribution(self.distr_of_A, *self.R_params[b])\n",
    "                        for b in range(self.N_BIOMES)]\n",
    "        \n",
    "        self.A_distr = [parameterize_truncate_distribution(self.distr_of_B, *self.A_params[b])\n",
    "                        for b in range(self.N_BIOMES)]\n",
    "    \n",
    "    def generate_landcover(self):\n",
    "        \"\"\"Generate new landcovers from the Biome map and landcover distribution.\"\"\"\n",
    "        fill_L(self.N_BIOMES, self.B, self.landcover_distr, self.L)\n",
    "        self.inflammable = np.where(self.L==0)\n",
    "    \n",
    "    def reset():\n",
    "        \"\"\"Generate new random fields for simulation.\"\"\"\n",
    "        fill_L(self.B, lc_params, self.L)\n",
    "        self.E[:] = 0.0\n",
    "        self.E[self.inflammable] = np.nan\n",
    "        fill_A(self.L, self.A_distr, self.A)\n",
    "        fill_R(self.R, self.R_distr, self.R)\n",
    "        self.F[:] = 0\n",
    "        self.active[:] = 0, 0\n",
    "        self.fires[:] = 0\n",
    "    \n",
    "    def ignite_fires(self, ignitions):\n",
    "        assert len(ignitions) is 2 and len(ignitions[0]) is len(ignitions[1])\n",
    "        ignitions = np.array(ignitions[0]), np.array(ignitions[1])\n",
    "        ignite_fires(ignitions, self.fires, self.active, self.L, self.F)\n",
    "    \n",
    "    \n",
    "    def iterate(self):\n",
    "        \"\"\"Burn an iteration of fires.\"\"\"\n",
    "        burn_next_iteration(self.fires, self.active, self.F, self.L)\n",
    "    \n",
    "    \n",
    "    def run(self, ignitions):\n",
    "        \"\"\"Ignite fires and burn until fires stop.\"\"\"\n",
    "        self.reset()\n",
    "        \n",
    "        while iterate(self.fires, self.active, self.F, self.L):\n",
    "            pass\n",
    "        \n",
    "    \n",
    "    \n",
    "### Implement Gamma\n",
    "### Can we derive the integral of the Gamma distribution\n",
    "### To get the expected value of exceedance?\n",
    "\n",
    "#sim = Simulation(B)\n",
    "#sim.B"
   ]
  },
  {
   "cell_type": "code",
   "execution_count": 36,
   "metadata": {
    "collapsed": false
   },
   "outputs": [
    {
     "ename": "NameError",
     "evalue": "name 'landcover_distr' is not defined",
     "output_type": "error",
     "traceback": [
      "\u001b[0;31m---------------------------------------------------------------------------\u001b[0m",
      "\u001b[0;31mNameError\u001b[0m                                 Traceback (most recent call last)",
      "\u001b[0;32m<ipython-input-36-2b9b3b6d8e88>\u001b[0m in \u001b[0;36m<module>\u001b[0;34m()\u001b[0m\n\u001b[0;32m----> 1\u001b[0;31m \u001b[0mlandcover_distr\u001b[0m\u001b[0;34m\u001b[0m\u001b[0m\n\u001b[0m\u001b[1;32m      2\u001b[0m \u001b[0mB\u001b[0m \u001b[0;34m=\u001b[0m \u001b[0mnp\u001b[0m\u001b[0;34m.\u001b[0m\u001b[0mzeros\u001b[0m\u001b[0;34m(\u001b[0m\u001b[0;34m)\u001b[0m\u001b[0;34m\u001b[0m\u001b[0m\n",
      "\u001b[0;31mNameError\u001b[0m: name 'landcover_distr' is not defined"
     ]
    }
   ],
   "source": [
    "landcover_distr\n",
    "B = np.zeros()"
   ]
  },
  {
   "cell_type": "code",
   "execution_count": 24,
   "metadata": {
    "collapsed": false
   },
   "outputs": [
    {
     "data": {
      "text/plain": [
       "array([ 0.,  0.,  0.,  1.,  1.,  1.])"
      ]
     },
     "execution_count": 24,
     "metadata": {},
     "output_type": "execute_result"
    }
   ],
   "source": [
    "np.array([0,0,0,1,1,1],dtype=bool).astype(float)"
   ]
  },
  {
   "cell_type": "code",
   "execution_count": null,
   "metadata": {
    "collapsed": true
   },
   "outputs": [],
   "source": []
  },
  {
   "cell_type": "code",
   "execution_count": null,
   "metadata": {
    "collapsed": true
   },
   "outputs": [],
   "source": []
  },
  {
   "cell_type": "code",
   "execution_count": null,
   "metadata": {
    "collapsed": true
   },
   "outputs": [],
   "source": []
  },
  {
   "cell_type": "code",
   "execution_count": null,
   "metadata": {
    "collapsed": true
   },
   "outputs": [],
   "source": []
  }
 ],
 "metadata": {
  "kernelspec": {
   "display_name": "Python 3",
   "language": "python",
   "name": "python3"
  },
  "language_info": {
   "codemirror_mode": {
    "name": "ipython",
    "version": 3
   },
   "file_extension": ".py",
   "mimetype": "text/x-python",
   "name": "python",
   "nbconvert_exporter": "python",
   "pygments_lexer": "ipython3",
   "version": "3.4.4"
  }
 },
 "nbformat": 4,
 "nbformat_minor": 0
}
