{
 "cells": [
  {
   "cell_type": "code",
   "execution_count": 2,
   "metadata": {
    "collapsed": true
   },
   "outputs": [],
   "source": [
    "import numpy as np\n",
    "from numba import jit\n",
    "from matplotlib.pyplot import *\n",
    "%matplotlib inline"
   ]
  },
  {
   "cell_type": "code",
   "execution_count": null,
   "metadata": {
    "collapsed": true
   },
   "outputs": [],
   "source": []
  },
  {
   "cell_type": "code",
   "execution_count": null,
   "metadata": {
    "collapsed": true
   },
   "outputs": [],
   "source": []
  },
  {
   "cell_type": "code",
   "execution_count": null,
   "metadata": {
    "collapsed": true
   },
   "outputs": [],
   "source": []
  },
  {
   "cell_type": "code",
   "execution_count": null,
   "metadata": {
    "collapsed": true
   },
   "outputs": [],
   "source": [
    "landcover_components = (\n",
    "# p(Bare)   p(Grass)  p(Shrub)\n",
    "( 1.00,      0.00,     0.00    ), # Inflammable\n",
    "( 0.50,      0.45,     0.05    ), # Defensible Space\n",
    "( 0.10,      0.20,     0.70    )) # Chaparral\n",
    "\n",
    "\n",
    "distr_of_A = np.random.gamma\n",
    "distr_of_R = np.random.gamma\n",
    "\n",
    "#          #------BARE-----#   #---GRASS--#   #---SHRUB---#\n",
    "A_params = ((np.nan, np.nan), (0.53, 3.01),   (1.50, 0.50))\n",
    "R_params = ((np.nan, np.nan), (1.00, 0.10),   (4.50, 1.40))\n",
    "\n",
    "R_distr = [parameterize(distr_of_R, *p) for p in R_params]\n",
    "A_distr = [parameterize(distr_of_A, *p) for p in A_params]\n",
    "\n",
    "grid_dims = (100,100)\n",
    "cell_size_m = 10  # meters\n",
    "\n",
    "B = np.zeros(shape=grid_dims,dtype=int)\n",
    "B[int(grid_dims[0]/3):int(2*grid_dims[0]/3)] = 1\n",
    "B[int(2*grid_dims[0]/3):] = 2\n",
    "\n",
    "L = np.zeros_like(B,dtype=int)\n",
    "E = np.zeros_like(B,dtype=float)\n",
    "A = np.zeros_like(B,dtype=float)\n",
    "R = np.zeros_like(B,dtype=float)\n",
    "F = np.zeros_like(B,dtype=bool)\n",
    "\n",
    "fill_L(B, landcover_components, L)\n",
    "E[L == 0] = np.nan\n",
    "fill_A(L, A_distr, A)\n",
    "fill_R(L, R_distr, R)\n",
    "\n",
    "active = np.zeros(2, dtype=int)\n",
    "ignitions = np.array([0]), np.array([0])\n",
    "fires = np.zeros(B.size, dtype=int), np.zeros(B.size, dtype=int)\n",
    "ignite_fires(ignitions, fires, active, L, F)"
   ]
  },
  {
   "cell_type": "code",
   "execution_count": null,
   "metadata": {
    "collapsed": true
   },
   "outputs": [],
   "source": []
  },
  {
   "cell_type": "code",
   "execution_count": null,
   "metadata": {
    "collapsed": true
   },
   "outputs": [],
   "source": []
  },
  {
   "cell_type": "code",
   "execution_count": 4,
   "metadata": {
    "collapsed": false
   },
   "outputs": [],
   "source": [
    "@jit\n",
    "def write_radii(grid,pix,radius,val,periodicity):\n",
    "    '''Assign a values to cells within the radii of another cell.'''\n",
    "    n = pix.shape[1]\n",
    "    assert(pix.shape[0]==2)\n",
    "    Y,X = grid.shape\n",
    "    \n",
    "    for i in range(n):\n",
    "        \n",
    "        r = radius[i]\n",
    "        \n",
    "        miny = pix[0,i]-r\n",
    "        if miny<0 and not periodicity[0]:\n",
    "            miny = 0\n",
    "        \n",
    "        maxy = pix[0,i]+r\n",
    "        if maxy>=Y and not periodicity[0]:\n",
    "            maxy = Y\n",
    "        \n",
    "        minx = pix[1,i]-r\n",
    "        if minx<0 and not periodicity[1]:\n",
    "            minx = 0\n",
    "        \n",
    "        maxx = pix[1,i]+r\n",
    "        if maxx>=X and not periodicity[1]:\n",
    "            maxx = X\n",
    "        \n",
    "        for y in range(miny,maxy):\n",
    "            if periodicity[0]:\n",
    "                y = bound(y,Y)\n",
    "            \n",
    "            for x in range(minx,maxx):\n",
    "                if periodicity[1]:\n",
    "                    x = bound(x,X)\n",
    "                if euclidean_distance(pix[0,i],pix[1,i],y,x)<=r:\n",
    "                    grid[y,x] = val[i]"
   ]
  },
  {
   "cell_type": "code",
   "execution_count": null,
   "metadata": {
    "collapsed": true
   },
   "outputs": [],
   "source": []
  },
  {
   "cell_type": "code",
   "execution_count": null,
   "metadata": {
    "collapsed": true
   },
   "outputs": [],
   "source": []
  },
  {
   "cell_type": "code",
   "execution_count": null,
   "metadata": {
    "collapsed": true
   },
   "outputs": [],
   "source": []
  },
  {
   "cell_type": "code",
   "execution_count": null,
   "metadata": {
    "collapsed": true
   },
   "outputs": [],
   "source": []
  },
  {
   "cell_type": "code",
   "execution_count": null,
   "metadata": {
    "collapsed": true
   },
   "outputs": [],
   "source": []
  },
  {
   "cell_type": "code",
   "execution_count": null,
   "metadata": {
    "collapsed": true
   },
   "outputs": [],
   "source": []
  },
  {
   "cell_type": "code",
   "execution_count": null,
   "metadata": {
    "collapsed": true
   },
   "outputs": [],
   "source": []
  },
  {
   "cell_type": "code",
   "execution_count": null,
   "metadata": {
    "collapsed": true
   },
   "outputs": [],
   "source": []
  }
 ],
 "metadata": {
  "kernelspec": {
   "display_name": "Python 3",
   "language": "python",
   "name": "python3"
  },
  "language_info": {
   "codemirror_mode": {
    "name": "ipython",
    "version": 3
   },
   "file_extension": ".py",
   "mimetype": "text/x-python",
   "name": "python",
   "nbconvert_exporter": "python",
   "pygments_lexer": "ipython3",
   "version": "3.4.4"
  }
 },
 "nbformat": 4,
 "nbformat_minor": 0
}
