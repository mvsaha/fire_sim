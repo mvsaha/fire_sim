{
 "cells": [
  {
   "cell_type": "code",
   "execution_count": 8,
   "metadata": {
    "collapsed": true
   },
   "outputs": [],
   "source": [
    "import sys\n",
    "sys.path.append('../')\n",
    "sys.dont_write_bytecode = True\n",
    "import os\n",
    "import numpy as np\n",
    "import scipy\n",
    "import scipy.ndimage\n",
    "\n",
    "sys.path.append('/Users/Michael_Saha/Repositories/blahb')\n",
    "sys.path.append('/home/paul/Repositories/blahb')\n",
    "import blahb\n",
    "\n",
    "from matplotlib.pyplot import *\n",
    "%matplotlib inline\n",
    "import numba\n",
    "sys.path.append('/Users/Michael_Saha/Repositories/')\n",
    "sys.path.append('./../../../')\n",
    "from fire_sim import *"
   ]
  },
  {
   "cell_type": "code",
   "execution_count": null,
   "metadata": {
    "collapsed": true
   },
   "outputs": [],
   "source": [
    "B = \n",
    "\n",
    "L_distr = [\n",
    "     [1.0,  0.0,  0.0],  # 0 - Water\n",
    "     [0.1,  0.1,  0.8],  # 1 - Rando\n",
    "     [0.6,  0.3,  0.1],  # 2 - Urban\n",
    "     [0.2,  0.6,  0.2],  # 3 - General\n",
    "     [0.7,  0.2,  0.1],  # 4 - Sandy? \n",
    "     [0.8,  0.1,  0.1],  # 5 - Urban\n",
    "     [1.0,  0.0,  0.0],  # 6 - Shallow water\n",
    "     [0.1,  0.1,  0.8],  # 7 - Rando\n",
    "     [1.0,  0.0,  0.0]   # 8 - Out of area\n",
    "    ]\n",
    "\n",
    "# A_distr <- Will be parameterized\n",
    "# R_distr <- Will be parameterized"
   ]
  },
  {
   "cell_type": "code",
   "execution_count": 40,
   "metadata": {
    "collapsed": true
   },
   "outputs": [],
   "source": [
    "def simulate_historical_fire(A_distr, R_distr, fire, n_iter=1):\n",
    "    \"\"\"Evaluate a parameter set for a given historical fire.\"\"\"\n",
    "    error_sum = 0\n",
    "    \n",
    "    # set up reduced grid to burn on\n",
    "    reduced_B = B.size()\n",
    "    \n",
    "    for i in n_iter:\n",
    "        # Reset landscape and fires\n",
    "        pass\n",
    "        \n",
    "        # burn fire\n",
    "        pass\n",
    "        \n",
    "        # evaluate error func\n",
    "        pass"
   ]
  },
  {
   "cell_type": "code",
   "execution_count": 41,
   "metadata": {
    "collapsed": true
   },
   "outputs": [],
   "source": [
    "def evaluate_param_set(A_distr, R_distr, fire_history):\n",
    "    \"\"\"Evaluate the fitness of a given parameterization using a fire history.\"\"\"\n",
    "    for fire in fires:\n",
    "        evaluate_against_fire(fire, landscape)"
   ]
  },
  {
   "cell_type": "code",
   "execution_count": 77,
   "metadata": {
    "collapsed": false
   },
   "outputs": [],
   "source": [
    "n_levels = 2\n",
    "\n",
    "# The grass param is a constant, leaving 7 degrees of freedom\n",
    "# The search space scales with n_levels ^ 7\n",
    "A_param_grass = (1.00, np.linspace(0.50, 1.00, n_levels))\n",
    "\n",
    "A_param_shrub = (np.linspace(1.00, 3.00, n_levels),\n",
    "                 np.linspace(0.20, 0.35, n_levels))\n",
    "\n",
    "R_param_grass = (np.linspace(0.50, 1.00, n_levels),\n",
    "                 np.linspace(0.50, 1.00, n_levels))\n",
    "\n",
    "R_param_shrub = (np.linspace(1.00, 3.00, n_levels),\n",
    "                 np.linspace(0.20, 0.35, n_levels))\n",
    "\n",
    "expanded_params = [arr.flatten() for arr in np.meshgrid(\n",
    "        *A_param_grass, *A_param_shrub, *R_param_grass, *R_param_shrub)]\n",
    "\n",
    "A_param_set, R_param_set = zip(*[((i[:2], i[2:4]), (i[4:6], i[6:])) for i in zip(*expanded_params)])\n"
   ]
  },
  {
   "cell_type": "code",
   "execution_count": 96,
   "metadata": {
    "collapsed": false
   },
   "outputs": [
    {
     "data": {
      "text/plain": [
       "array([ 0.53938052,  0.63122938,  1.76707496,  0.35996748,  0.2396419 ,\n",
       "        0.02698912,  0.27399684,  0.00381367,  0.22332148,  0.13887756,\n",
       "        0.47474659,  0.17093399,  0.19813161,  1.24692596,  0.47996155,\n",
       "        2.04024065,  1.33020199,  1.20208435,  0.4957686 ,  0.36692346,\n",
       "        0.09319874,  0.17585125,  0.27730506,  0.1921023 ,  0.25715686,\n",
       "        0.11769681,  0.05409443,  0.21633475,  2.64456579,  0.40697636,\n",
       "        1.06415399,  0.73318699,  1.05705058,  0.24303995,  1.27956912,\n",
       "        0.2216221 ,  0.31720741,  0.5543831 ,  0.62413644,  0.40233317,\n",
       "        0.77416656,  0.7436476 ,  0.7671103 ,  0.33675424,  0.04308576,\n",
       "        1.56185953,  0.67361769,  0.0238648 ,  0.08003578,  1.7317311 ,\n",
       "        0.34061807,  0.30346929,  0.48507476,  0.02405424,  0.51637379,\n",
       "        0.34032561,  1.34548533,  0.55614402,  0.73782835,  0.72722043,\n",
       "        0.12795664,  1.08730805,  0.68109237,  0.54577574,  0.50566472,\n",
       "        0.66806449,  0.67623688,  0.40927964,  0.78552038,  0.28100104,\n",
       "        0.66383402,  0.44770566,  0.09421875,  0.00550078,  0.26701679,\n",
       "        2.11724532,  0.32804658,  1.42542476,  0.09472506,  0.92037355,\n",
       "        0.4746443 ,  0.35320292,  1.07678535,  0.49838582,  0.21606158,\n",
       "        0.23842665,  0.28406063,  1.16353755,  0.42365414,  0.60064785,\n",
       "        1.14929382,  0.27382051,  0.0441638 ,  0.24876534,  0.00284735,\n",
       "        0.78206045,  0.99987277,  0.9507148 ,  0.56719861,  0.04083166])"
      ]
     },
     "execution_count": 96,
     "metadata": {},
     "output_type": "execute_result"
    }
   ],
   "source": [
    "parameterize(np.random.gamma, *A_param_set[0][0])"
   ]
  },
  {
   "cell_type": "code",
   "execution_count": 64,
   "metadata": {
    "collapsed": false
   },
   "outputs": [
    {
     "data": {
      "text/plain": [
       "[(1.0, 0.5, 1.0, 0.20000000000000001, 0.5, 0.5, 1.0, 0.20000000000000001),\n",
       " (1.0, 0.5, 1.0, 0.20000000000000001, 0.5, 0.5, 1.0, 0.34999999999999998),\n",
       " (1.0, 0.5, 1.0, 0.20000000000000001, 0.5, 0.5, 3.0, 0.20000000000000001),\n",
       " (1.0, 0.5, 1.0, 0.20000000000000001, 0.5, 0.5, 3.0, 0.34999999999999998),\n",
       " (1.0, 0.5, 1.0, 0.20000000000000001, 0.5, 1.0, 1.0, 0.20000000000000001),\n",
       " (1.0, 0.5, 1.0, 0.20000000000000001, 0.5, 1.0, 1.0, 0.34999999999999998),\n",
       " (1.0, 0.5, 1.0, 0.20000000000000001, 0.5, 1.0, 3.0, 0.20000000000000001),\n",
       " (1.0, 0.5, 1.0, 0.20000000000000001, 0.5, 1.0, 3.0, 0.34999999999999998),\n",
       " (1.0, 0.5, 1.0, 0.20000000000000001, 1.0, 0.5, 1.0, 0.20000000000000001),\n",
       " (1.0, 0.5, 1.0, 0.20000000000000001, 1.0, 0.5, 1.0, 0.34999999999999998),\n",
       " (1.0, 0.5, 1.0, 0.20000000000000001, 1.0, 0.5, 3.0, 0.20000000000000001),\n",
       " (1.0, 0.5, 1.0, 0.20000000000000001, 1.0, 0.5, 3.0, 0.34999999999999998),\n",
       " (1.0, 0.5, 1.0, 0.20000000000000001, 1.0, 1.0, 1.0, 0.20000000000000001),\n",
       " (1.0, 0.5, 1.0, 0.20000000000000001, 1.0, 1.0, 1.0, 0.34999999999999998),\n",
       " (1.0, 0.5, 1.0, 0.20000000000000001, 1.0, 1.0, 3.0, 0.20000000000000001),\n",
       " (1.0, 0.5, 1.0, 0.20000000000000001, 1.0, 1.0, 3.0, 0.34999999999999998),\n",
       " (1.0, 0.5, 1.0, 0.34999999999999998, 0.5, 0.5, 1.0, 0.20000000000000001),\n",
       " (1.0, 0.5, 1.0, 0.34999999999999998, 0.5, 0.5, 1.0, 0.34999999999999998),\n",
       " (1.0, 0.5, 1.0, 0.34999999999999998, 0.5, 0.5, 3.0, 0.20000000000000001),\n",
       " (1.0, 0.5, 1.0, 0.34999999999999998, 0.5, 0.5, 3.0, 0.34999999999999998),\n",
       " (1.0, 0.5, 1.0, 0.34999999999999998, 0.5, 1.0, 1.0, 0.20000000000000001),\n",
       " (1.0, 0.5, 1.0, 0.34999999999999998, 0.5, 1.0, 1.0, 0.34999999999999998),\n",
       " (1.0, 0.5, 1.0, 0.34999999999999998, 0.5, 1.0, 3.0, 0.20000000000000001),\n",
       " (1.0, 0.5, 1.0, 0.34999999999999998, 0.5, 1.0, 3.0, 0.34999999999999998),\n",
       " (1.0, 0.5, 1.0, 0.34999999999999998, 1.0, 0.5, 1.0, 0.20000000000000001),\n",
       " (1.0, 0.5, 1.0, 0.34999999999999998, 1.0, 0.5, 1.0, 0.34999999999999998),\n",
       " (1.0, 0.5, 1.0, 0.34999999999999998, 1.0, 0.5, 3.0, 0.20000000000000001),\n",
       " (1.0, 0.5, 1.0, 0.34999999999999998, 1.0, 0.5, 3.0, 0.34999999999999998),\n",
       " (1.0, 0.5, 1.0, 0.34999999999999998, 1.0, 1.0, 1.0, 0.20000000000000001),\n",
       " (1.0, 0.5, 1.0, 0.34999999999999998, 1.0, 1.0, 1.0, 0.34999999999999998),\n",
       " (1.0, 0.5, 1.0, 0.34999999999999998, 1.0, 1.0, 3.0, 0.20000000000000001),\n",
       " (1.0, 0.5, 1.0, 0.34999999999999998, 1.0, 1.0, 3.0, 0.34999999999999998),\n",
       " (1.0, 0.5, 3.0, 0.20000000000000001, 0.5, 0.5, 1.0, 0.20000000000000001),\n",
       " (1.0, 0.5, 3.0, 0.20000000000000001, 0.5, 0.5, 1.0, 0.34999999999999998),\n",
       " (1.0, 0.5, 3.0, 0.20000000000000001, 0.5, 0.5, 3.0, 0.20000000000000001),\n",
       " (1.0, 0.5, 3.0, 0.20000000000000001, 0.5, 0.5, 3.0, 0.34999999999999998),\n",
       " (1.0, 0.5, 3.0, 0.20000000000000001, 0.5, 1.0, 1.0, 0.20000000000000001),\n",
       " (1.0, 0.5, 3.0, 0.20000000000000001, 0.5, 1.0, 1.0, 0.34999999999999998),\n",
       " (1.0, 0.5, 3.0, 0.20000000000000001, 0.5, 1.0, 3.0, 0.20000000000000001),\n",
       " (1.0, 0.5, 3.0, 0.20000000000000001, 0.5, 1.0, 3.0, 0.34999999999999998),\n",
       " (1.0, 0.5, 3.0, 0.20000000000000001, 1.0, 0.5, 1.0, 0.20000000000000001),\n",
       " (1.0, 0.5, 3.0, 0.20000000000000001, 1.0, 0.5, 1.0, 0.34999999999999998),\n",
       " (1.0, 0.5, 3.0, 0.20000000000000001, 1.0, 0.5, 3.0, 0.20000000000000001),\n",
       " (1.0, 0.5, 3.0, 0.20000000000000001, 1.0, 0.5, 3.0, 0.34999999999999998),\n",
       " (1.0, 0.5, 3.0, 0.20000000000000001, 1.0, 1.0, 1.0, 0.20000000000000001),\n",
       " (1.0, 0.5, 3.0, 0.20000000000000001, 1.0, 1.0, 1.0, 0.34999999999999998),\n",
       " (1.0, 0.5, 3.0, 0.20000000000000001, 1.0, 1.0, 3.0, 0.20000000000000001),\n",
       " (1.0, 0.5, 3.0, 0.20000000000000001, 1.0, 1.0, 3.0, 0.34999999999999998),\n",
       " (1.0, 0.5, 3.0, 0.34999999999999998, 0.5, 0.5, 1.0, 0.20000000000000001),\n",
       " (1.0, 0.5, 3.0, 0.34999999999999998, 0.5, 0.5, 1.0, 0.34999999999999998),\n",
       " (1.0, 0.5, 3.0, 0.34999999999999998, 0.5, 0.5, 3.0, 0.20000000000000001),\n",
       " (1.0, 0.5, 3.0, 0.34999999999999998, 0.5, 0.5, 3.0, 0.34999999999999998),\n",
       " (1.0, 0.5, 3.0, 0.34999999999999998, 0.5, 1.0, 1.0, 0.20000000000000001),\n",
       " (1.0, 0.5, 3.0, 0.34999999999999998, 0.5, 1.0, 1.0, 0.34999999999999998),\n",
       " (1.0, 0.5, 3.0, 0.34999999999999998, 0.5, 1.0, 3.0, 0.20000000000000001),\n",
       " (1.0, 0.5, 3.0, 0.34999999999999998, 0.5, 1.0, 3.0, 0.34999999999999998),\n",
       " (1.0, 0.5, 3.0, 0.34999999999999998, 1.0, 0.5, 1.0, 0.20000000000000001),\n",
       " (1.0, 0.5, 3.0, 0.34999999999999998, 1.0, 0.5, 1.0, 0.34999999999999998),\n",
       " (1.0, 0.5, 3.0, 0.34999999999999998, 1.0, 0.5, 3.0, 0.20000000000000001),\n",
       " (1.0, 0.5, 3.0, 0.34999999999999998, 1.0, 0.5, 3.0, 0.34999999999999998),\n",
       " (1.0, 0.5, 3.0, 0.34999999999999998, 1.0, 1.0, 1.0, 0.20000000000000001),\n",
       " (1.0, 0.5, 3.0, 0.34999999999999998, 1.0, 1.0, 1.0, 0.34999999999999998),\n",
       " (1.0, 0.5, 3.0, 0.34999999999999998, 1.0, 1.0, 3.0, 0.20000000000000001),\n",
       " (1.0, 0.5, 3.0, 0.34999999999999998, 1.0, 1.0, 3.0, 0.34999999999999998),\n",
       " (1.0, 1.0, 1.0, 0.20000000000000001, 0.5, 0.5, 1.0, 0.20000000000000001),\n",
       " (1.0, 1.0, 1.0, 0.20000000000000001, 0.5, 0.5, 1.0, 0.34999999999999998),\n",
       " (1.0, 1.0, 1.0, 0.20000000000000001, 0.5, 0.5, 3.0, 0.20000000000000001),\n",
       " (1.0, 1.0, 1.0, 0.20000000000000001, 0.5, 0.5, 3.0, 0.34999999999999998),\n",
       " (1.0, 1.0, 1.0, 0.20000000000000001, 0.5, 1.0, 1.0, 0.20000000000000001),\n",
       " (1.0, 1.0, 1.0, 0.20000000000000001, 0.5, 1.0, 1.0, 0.34999999999999998),\n",
       " (1.0, 1.0, 1.0, 0.20000000000000001, 0.5, 1.0, 3.0, 0.20000000000000001),\n",
       " (1.0, 1.0, 1.0, 0.20000000000000001, 0.5, 1.0, 3.0, 0.34999999999999998),\n",
       " (1.0, 1.0, 1.0, 0.20000000000000001, 1.0, 0.5, 1.0, 0.20000000000000001),\n",
       " (1.0, 1.0, 1.0, 0.20000000000000001, 1.0, 0.5, 1.0, 0.34999999999999998),\n",
       " (1.0, 1.0, 1.0, 0.20000000000000001, 1.0, 0.5, 3.0, 0.20000000000000001),\n",
       " (1.0, 1.0, 1.0, 0.20000000000000001, 1.0, 0.5, 3.0, 0.34999999999999998),\n",
       " (1.0, 1.0, 1.0, 0.20000000000000001, 1.0, 1.0, 1.0, 0.20000000000000001),\n",
       " (1.0, 1.0, 1.0, 0.20000000000000001, 1.0, 1.0, 1.0, 0.34999999999999998),\n",
       " (1.0, 1.0, 1.0, 0.20000000000000001, 1.0, 1.0, 3.0, 0.20000000000000001),\n",
       " (1.0, 1.0, 1.0, 0.20000000000000001, 1.0, 1.0, 3.0, 0.34999999999999998),\n",
       " (1.0, 1.0, 1.0, 0.34999999999999998, 0.5, 0.5, 1.0, 0.20000000000000001),\n",
       " (1.0, 1.0, 1.0, 0.34999999999999998, 0.5, 0.5, 1.0, 0.34999999999999998),\n",
       " (1.0, 1.0, 1.0, 0.34999999999999998, 0.5, 0.5, 3.0, 0.20000000000000001),\n",
       " (1.0, 1.0, 1.0, 0.34999999999999998, 0.5, 0.5, 3.0, 0.34999999999999998),\n",
       " (1.0, 1.0, 1.0, 0.34999999999999998, 0.5, 1.0, 1.0, 0.20000000000000001),\n",
       " (1.0, 1.0, 1.0, 0.34999999999999998, 0.5, 1.0, 1.0, 0.34999999999999998),\n",
       " (1.0, 1.0, 1.0, 0.34999999999999998, 0.5, 1.0, 3.0, 0.20000000000000001),\n",
       " (1.0, 1.0, 1.0, 0.34999999999999998, 0.5, 1.0, 3.0, 0.34999999999999998),\n",
       " (1.0, 1.0, 1.0, 0.34999999999999998, 1.0, 0.5, 1.0, 0.20000000000000001),\n",
       " (1.0, 1.0, 1.0, 0.34999999999999998, 1.0, 0.5, 1.0, 0.34999999999999998),\n",
       " (1.0, 1.0, 1.0, 0.34999999999999998, 1.0, 0.5, 3.0, 0.20000000000000001),\n",
       " (1.0, 1.0, 1.0, 0.34999999999999998, 1.0, 0.5, 3.0, 0.34999999999999998),\n",
       " (1.0, 1.0, 1.0, 0.34999999999999998, 1.0, 1.0, 1.0, 0.20000000000000001),\n",
       " (1.0, 1.0, 1.0, 0.34999999999999998, 1.0, 1.0, 1.0, 0.34999999999999998),\n",
       " (1.0, 1.0, 1.0, 0.34999999999999998, 1.0, 1.0, 3.0, 0.20000000000000001),\n",
       " (1.0, 1.0, 1.0, 0.34999999999999998, 1.0, 1.0, 3.0, 0.34999999999999998),\n",
       " (1.0, 1.0, 3.0, 0.20000000000000001, 0.5, 0.5, 1.0, 0.20000000000000001),\n",
       " (1.0, 1.0, 3.0, 0.20000000000000001, 0.5, 0.5, 1.0, 0.34999999999999998),\n",
       " (1.0, 1.0, 3.0, 0.20000000000000001, 0.5, 0.5, 3.0, 0.20000000000000001),\n",
       " (1.0, 1.0, 3.0, 0.20000000000000001, 0.5, 0.5, 3.0, 0.34999999999999998),\n",
       " (1.0, 1.0, 3.0, 0.20000000000000001, 0.5, 1.0, 1.0, 0.20000000000000001),\n",
       " (1.0, 1.0, 3.0, 0.20000000000000001, 0.5, 1.0, 1.0, 0.34999999999999998),\n",
       " (1.0, 1.0, 3.0, 0.20000000000000001, 0.5, 1.0, 3.0, 0.20000000000000001),\n",
       " (1.0, 1.0, 3.0, 0.20000000000000001, 0.5, 1.0, 3.0, 0.34999999999999998),\n",
       " (1.0, 1.0, 3.0, 0.20000000000000001, 1.0, 0.5, 1.0, 0.20000000000000001),\n",
       " (1.0, 1.0, 3.0, 0.20000000000000001, 1.0, 0.5, 1.0, 0.34999999999999998),\n",
       " (1.0, 1.0, 3.0, 0.20000000000000001, 1.0, 0.5, 3.0, 0.20000000000000001),\n",
       " (1.0, 1.0, 3.0, 0.20000000000000001, 1.0, 0.5, 3.0, 0.34999999999999998),\n",
       " (1.0, 1.0, 3.0, 0.20000000000000001, 1.0, 1.0, 1.0, 0.20000000000000001),\n",
       " (1.0, 1.0, 3.0, 0.20000000000000001, 1.0, 1.0, 1.0, 0.34999999999999998),\n",
       " (1.0, 1.0, 3.0, 0.20000000000000001, 1.0, 1.0, 3.0, 0.20000000000000001),\n",
       " (1.0, 1.0, 3.0, 0.20000000000000001, 1.0, 1.0, 3.0, 0.34999999999999998),\n",
       " (1.0, 1.0, 3.0, 0.34999999999999998, 0.5, 0.5, 1.0, 0.20000000000000001),\n",
       " (1.0, 1.0, 3.0, 0.34999999999999998, 0.5, 0.5, 1.0, 0.34999999999999998),\n",
       " (1.0, 1.0, 3.0, 0.34999999999999998, 0.5, 0.5, 3.0, 0.20000000000000001),\n",
       " (1.0, 1.0, 3.0, 0.34999999999999998, 0.5, 0.5, 3.0, 0.34999999999999998),\n",
       " (1.0, 1.0, 3.0, 0.34999999999999998, 0.5, 1.0, 1.0, 0.20000000000000001),\n",
       " (1.0, 1.0, 3.0, 0.34999999999999998, 0.5, 1.0, 1.0, 0.34999999999999998),\n",
       " (1.0, 1.0, 3.0, 0.34999999999999998, 0.5, 1.0, 3.0, 0.20000000000000001),\n",
       " (1.0, 1.0, 3.0, 0.34999999999999998, 0.5, 1.0, 3.0, 0.34999999999999998),\n",
       " (1.0, 1.0, 3.0, 0.34999999999999998, 1.0, 0.5, 1.0, 0.20000000000000001),\n",
       " (1.0, 1.0, 3.0, 0.34999999999999998, 1.0, 0.5, 1.0, 0.34999999999999998),\n",
       " (1.0, 1.0, 3.0, 0.34999999999999998, 1.0, 0.5, 3.0, 0.20000000000000001),\n",
       " (1.0, 1.0, 3.0, 0.34999999999999998, 1.0, 0.5, 3.0, 0.34999999999999998),\n",
       " (1.0, 1.0, 3.0, 0.34999999999999998, 1.0, 1.0, 1.0, 0.20000000000000001),\n",
       " (1.0, 1.0, 3.0, 0.34999999999999998, 1.0, 1.0, 1.0, 0.34999999999999998),\n",
       " (1.0, 1.0, 3.0, 0.34999999999999998, 1.0, 1.0, 3.0, 0.20000000000000001),\n",
       " (1.0, 1.0, 3.0, 0.34999999999999998, 1.0, 1.0, 3.0, 0.34999999999999998)]"
      ]
     },
     "execution_count": 64,
     "metadata": {},
     "output_type": "execute_result"
    }
   ],
   "source": [
    "x"
   ]
  },
  {
   "cell_type": "code",
   "execution_count": 60,
   "metadata": {
    "collapsed": false
   },
   "outputs": [
    {
     "data": {
      "text/plain": [
       "128"
      ]
     },
     "execution_count": 60,
     "metadata": {},
     "output_type": "execute_result"
    }
   ],
   "source": [
    "len(expanded_params[0])"
   ]
  },
  {
   "cell_type": "code",
   "execution_count": 69,
   "metadata": {
    "collapsed": false
   },
   "outputs": [
    {
     "data": {
      "text/plain": [
       "((nan, nan), (3.0, 0.3), (3.5, 0.3))"
      ]
     },
     "execution_count": 69,
     "metadata": {},
     "output_type": "execute_result"
    }
   ],
   "source": [
    "A_params"
   ]
  },
  {
   "cell_type": "code",
   "execution_count": 38,
   "metadata": {
    "collapsed": false
   },
   "outputs": [
    {
     "ename": "NameError",
     "evalue": "name 'B' is not defined",
     "output_type": "error",
     "traceback": [
      "\u001b[1;31m---------------------------------------------------------------------------\u001b[0m",
      "\u001b[1;31mNameError\u001b[0m                                 Traceback (most recent call last)",
      "\u001b[1;32m<ipython-input-38-e4fb21289e14>\u001b[0m in \u001b[0;36m<module>\u001b[1;34m()\u001b[0m\n\u001b[0;32m      5\u001b[0m \u001b[0mR_distr\u001b[0m \u001b[1;33m=\u001b[0m \u001b[1;33m[\u001b[0m\u001b[0mparameterize\u001b[0m\u001b[1;33m(\u001b[0m\u001b[0mnp\u001b[0m\u001b[1;33m.\u001b[0m\u001b[0mrandom\u001b[0m\u001b[1;33m.\u001b[0m\u001b[0mgamma\u001b[0m\u001b[1;33m,\u001b[0m \u001b[1;33m*\u001b[0m\u001b[0mp\u001b[0m\u001b[1;33m)\u001b[0m \u001b[1;32mfor\u001b[0m \u001b[0mp\u001b[0m \u001b[1;32min\u001b[0m \u001b[0mR_params\u001b[0m\u001b[1;33m]\u001b[0m\u001b[1;33m\u001b[0m\u001b[0m\n\u001b[0;32m      6\u001b[0m \u001b[1;33m\u001b[0m\u001b[0m\n\u001b[1;32m----> 7\u001b[1;33m \u001b[0msim\u001b[0m \u001b[1;33m=\u001b[0m \u001b[0mLandscape\u001b[0m\u001b[1;33m(\u001b[0m\u001b[0mB\u001b[0m\u001b[1;33m,\u001b[0m \u001b[0mlandcover_distr\u001b[0m\u001b[1;33m,\u001b[0m \u001b[0mA_distr\u001b[0m\u001b[1;33m,\u001b[0m \u001b[0mR_distr\u001b[0m\u001b[1;33m)\u001b[0m\u001b[1;33m\u001b[0m\u001b[0m\n\u001b[0m",
      "\u001b[1;31mNameError\u001b[0m: name 'B' is not defined"
     ]
    }
   ],
   "source": [
    "#          Bare               Grass         Wood\n",
    "A_params = (np.nan, np.nan), (3.00, 0.30), (3.50, 0.30)\n",
    "R_params = (np.nan, np.nan), (2.00, 1.65), (1.60, 1.65)\n",
    "A_distr = [parameterize(np.random.gamma, *p) for p in A_params]\n",
    "R_distr = [parameterize(np.random.gamma, *p) for p in R_params]\n",
    "\n",
    "sim = Landscape(B, landcover_distr, A_distr, R_distr)"
   ]
  },
  {
   "cell_type": "code",
   "execution_count": 34,
   "metadata": {
    "collapsed": false
   },
   "outputs": [
    {
     "data": {
      "text/plain": [
       "(array([ 199.,  328.,  235.,  135.,   63.,   24.,   10.,    4.,    1.,    1.]),\n",
       " array([ 0.05858481,  0.45372485,  0.84886489,  1.24400493,  1.63914497,\n",
       "         2.03428501,  2.42942505,  2.82456509,  3.21970513,  3.61484517,\n",
       "         4.00998521]),\n",
       " <a list of 10 Patch objects>)"
      ]
     },
     "execution_count": 34,
     "metadata": {},
     "output_type": "execute_result"
    },
    {
     "data": {
      "image/png": "[encoded data removed]",
      "text/plain": [
       "<matplotlib.figure.Figure at 0x7f360fb30f28>"
      ]
     },
     "metadata": {},
     "output_type": "display_data"
    }
   ],
   "source": [
    "hist(A_distr[2](1000))\n",
    "hist(A_distr[1](1000))"
   ]
  },
  {
   "cell_type": "code",
   "execution_count": 6,
   "metadata": {
    "collapsed": false
   },
   "outputs": [
    {
     "ename": "NameError",
     "evalue": "name 'param_search_space' is not defined",
     "output_type": "error",
     "traceback": [
      "\u001b[1;31m---------------------------------------------------------------------------\u001b[0m",
      "\u001b[1;31mNameError\u001b[0m                                 Traceback (most recent call last)",
      "\u001b[1;32m<ipython-input-6-2ef85ad3df39>\u001b[0m in \u001b[0;36m<module>\u001b[1;34m()\u001b[0m\n\u001b[0;32m      1\u001b[0m \u001b[0mA_distr_search_space\u001b[0m\u001b[1;33m,\u001b[0m \u001b[0mR_distr_search_space\u001b[0m \u001b[1;33m=\u001b[0m \u001b[1;33m[\u001b[0m\u001b[1;33m]\u001b[0m\u001b[1;33m,\u001b[0m \u001b[1;33m[\u001b[0m\u001b[1;33m]\u001b[0m\u001b[1;33m\u001b[0m\u001b[0m\n\u001b[0;32m      2\u001b[0m \u001b[1;33m\u001b[0m\u001b[0m\n\u001b[1;32m----> 3\u001b[1;33m \u001b[1;32mfor\u001b[0m \u001b[0mparam_set\u001b[0m \u001b[1;32min\u001b[0m \u001b[0mparam_search_space\u001b[0m\u001b[1;33m:\u001b[0m\u001b[1;33m\u001b[0m\u001b[0m\n\u001b[0m\u001b[0;32m      4\u001b[0m     \u001b[0mevaluate_param_set\u001b[0m\u001b[1;33m(\u001b[0m\u001b[0mfire_history\u001b[0m\u001b[1;33m)\u001b[0m\u001b[1;33m\u001b[0m\u001b[0m\n",
      "\u001b[1;31mNameError\u001b[0m: name 'param_search_space' is not defined"
     ]
    }
   ],
   "source": [
    "\n",
    "\n",
    "A_distr_search_space, R_distr_search_space = [], []\n",
    "\n",
    "for param_set in param_search_space:\n",
    "    \n",
    "    evaluate_param_set(A_distr, R_distr, fire_history)"
   ]
  },
  {
   "cell_type": "code",
   "execution_count": null,
   "metadata": {
    "collapsed": true
   },
   "outputs": [],
   "source": []
  },
  {
   "cell_type": "code",
   "execution_count": null,
   "metadata": {
    "collapsed": true
   },
   "outputs": [],
   "source": []
  },
  {
   "cell_type": "code",
   "execution_count": null,
   "metadata": {
    "collapsed": true
   },
   "outputs": [],
   "source": []
  },
  {
   "cell_type": "code",
   "execution_count": null,
   "metadata": {
    "collapsed": true
   },
   "outputs": [],
   "source": []
  },
  {
   "cell_type": "code",
   "execution_count": null,
   "metadata": {
    "collapsed": true
   },
   "outputs": [],
   "source": []
  },
  {
   "cell_type": "code",
   "execution_count": 2,
   "metadata": {
    "collapsed": true
   },
   "outputs": [],
   "source": []
  },
  {
   "cell_type": "code",
   "execution_count": null,
   "metadata": {
    "collapsed": true
   },
   "outputs": [],
   "source": []
  }
 ],
 "metadata": {
  "kernelspec": {
   "display_name": "Python 3",
   "language": "python",
   "name": "python3"
  },
  "language_info": {
   "codemirror_mode": {
    "name": "ipython",
    "version": 3
   },
   "file_extension": ".py",
   "mimetype": "text/x-python",
   "name": "python",
   "nbconvert_exporter": "python",
   "pygments_lexer": "ipython3",
   "version": "3.5.1"
  }
 },
 "nbformat": 4,
 "nbformat_minor": 0
}
