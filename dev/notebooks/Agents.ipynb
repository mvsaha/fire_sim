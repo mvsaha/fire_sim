{
 "cells": [
  {
   "cell_type": "code",
   "execution_count": 1,
   "metadata": {
    "collapsed": true
   },
   "outputs": [],
   "source": [
    "import sys\n",
    "sys.path.append('../')\n",
    "sys.dont_write_bytecode = True\n",
    "import os\n",
    "import numpy as np\n",
    "import scipy.ndimage\n",
    "from matplotlib.pyplot import *\n",
    "%matplotlib inline\n",
    "import numba\n",
    "sys.path.append('/Users/Michael_Saha/Repositories/')\n",
    "sys.path.append('./../../../')\n",
    "from fire_sim import *"
   ]
  },
  {
   "cell_type": "code",
   "execution_count": 3,
   "metadata": {
    "collapsed": true
   },
   "outputs": [],
   "source": [
    "# Break into classes:\n",
    "#\n",
    "#    Landscape -> Environmental variables and fire history\n",
    "#    Town -> Container for agents to loop over\n",
    "#    \n",
    "#    Calibration -> Contains a Landscape and manages the training/evaluation of \n",
    "#        fire behaviour against historical fire data.\n",
    "#\n",
    "#    ABM -> Container for parameterized Landscape and Towns of peoples.\n",
    "#        Town (and home) behaviours depend on the Landscape and Town behaviours."
   ]
  },
  {
   "cell_type": "code",
   "execution_count": 5,
   "metadata": {
    "collapsed": false
   },
   "outputs": [
    {
     "data": {
      "text/plain": [
       "1.4142135623730951"
      ]
     },
     "execution_count": 5,
     "metadata": {},
     "output_type": "execute_result"
    }
   ],
   "source": [
    "euclidean_distance(0,0,1,1)"
   ]
  },
  {
   "cell_type": "code",
   "execution_count": 10,
   "metadata": {
    "collapsed": false
   },
   "outputs": [
    {
     "name": "stdout",
     "output_type": "stream",
     "text": [
      "foo (int64, array(int64, 1d, C))\n",
      "--------------------------------------------------------------------------------\n",
      "# File: <ipython-input-10-8e7ea949e6e4>\n",
      "# --- LINE 1 --- \n",
      "\n",
      "@numba.jit(nopython=True)\n",
      "\n",
      "# --- LINE 2 --- \n",
      "\n",
      "def foo(x, y):\n",
      "\n",
      "    # --- LINE 3 --- \n",
      "    # label 0\n",
      "    #   x = arg(0, name=x)  :: int64\n",
      "    #   y = arg(1, name=y)  :: array(int64, 1d, C)\n",
      "    #   $0.3 = x + y  :: array(int64, 1d, C)\n",
      "    #   del y\n",
      "    #   del x\n",
      "    #   $0.4 = cast(value=$0.3)  :: array(int64, 1d, C)\n",
      "    #   del $0.3\n",
      "    #   return $0.4\n",
      "\n",
      "    return x + y\n",
      "\n",
      "\n",
      "================================================================================\n"
     ]
    }
   ],
   "source": [
    "@numba.jit(nopython=True)\n",
    "def foo(x, y):\n",
    "    return x + y\n",
    "\n",
    "y = np.array([1,2,3,4,5,6])\n",
    "\n",
    "foo(6,y)\n",
    "foo.inspect_types()"
   ]
  },
  {
   "cell_type": "code",
   "execution_count": 36,
   "metadata": {
    "collapsed": false
   },
   "outputs": [],
   "source": [
    "class Town:\n",
    "    def __init__(self, homes, initial_ds, betas, model):\n",
    "        \"\"\"Initialize a Town with homes.\"\"\"\n",
    "        self.homes = homes\n",
    "        self.ds = initial_ds\n",
    "        self.betas = betas\n",
    "        self.model = model\n",
    "\n",
    "\n",
    "@numba.jit(nopython=True)\n",
    "def min_distances(A, B, distances):\n",
    "    \"\"\"Find the minimum distance of each pixel in A to any pixel in B.\"\"\"\n",
    "    assert A[0].size == A[1].size\n",
    "    assert B[0].size == B[1].size\n",
    "    assert A[0].size > 0 and B[0].size > 0\n",
    "    for i in range(A[0].size):\n",
    "        distances[i] = euclidean_distance(A[0][i], A[1][i], B[0][0], B[1][0])\n",
    "        for j in range(B[0].size):\n",
    "            d = euclidean_distance(A[0][i], A[1][i], B[0][j], B[1][j])\n",
    "            if d < distances[i]:\n",
    "                distances[i] = d\n",
    "\n",
    "class ABM:\n",
    "    \"\"\"Coupled Towns and Landscapes\"\"\"\n",
    "    def __init__(towns, landscape):\n",
    "        assert towns in landscapes\n",
    "        \n",
    "    def nearest_fire(self):\n",
    "        for town in self.towns:\n",
    "            for fire in zip(self.landscape.past_fires, self.landscape.past_fire_map)\n",
    "                distance_to_last_fire(town.homes, fire, distances)\n",
    "    \n",
    "    def update_ds(self):\n",
    "        \"\"\"Update defensible space on the landscape using the thinning algorithm.\"\"\"\n",
    "        "
   ]
  },
  {
   "cell_type": "code",
   "execution_count": 46,
   "metadata": {
    "collapsed": false
   },
   "outputs": [
    {
     "name": "stdout",
     "output_type": "stream",
     "text": [
      "1000 loops, best of 3: 948 µs per loop\n"
     ]
    }
   ],
   "source": [
    "A = np.arange(1000), np.arange(1000)\n",
    "B = np.arange(100,200), np.arange(100,200)\n",
    "\n",
    "distance = np.zeros(A[0].size)\n",
    "%timeit d = min_distances(A, B, distance)"
   ]
  },
  {
   "cell_type": "code",
   "execution_count": null,
   "metadata": {
    "collapsed": true
   },
   "outputs": [],
   "source": []
  },
  {
   "cell_type": "code",
   "execution_count": null,
   "metadata": {
    "collapsed": true
   },
   "outputs": [],
   "source": [
    "# tuple of numpy arrays\n",
    "# "
   ]
  },
  {
   "cell_type": "code",
   "execution_count": null,
   "metadata": {
    "collapsed": true
   },
   "outputs": [],
   "source": []
  },
  {
   "cell_type": "code",
   "execution_count": null,
   "metadata": {
    "collapsed": true
   },
   "outputs": [],
   "source": []
  },
  {
   "cell_type": "code",
   "execution_count": null,
   "metadata": {
    "collapsed": true
   },
   "outputs": [],
   "source": []
  },
  {
   "cell_type": "code",
   "execution_count": null,
   "metadata": {
    "collapsed": true
   },
   "outputs": [],
   "source": []
  },
  {
   "cell_type": "code",
   "execution_count": null,
   "metadata": {
    "collapsed": true
   },
   "outputs": [],
   "source": []
  },
  {
   "cell_type": "code",
   "execution_count": null,
   "metadata": {
    "collapsed": true
   },
   "outputs": [],
   "source": []
  },
  {
   "cell_type": "code",
   "execution_count": null,
   "metadata": {
    "collapsed": true
   },
   "outputs": [],
   "source": []
  },
  {
   "cell_type": "code",
   "execution_count": null,
   "metadata": {
    "collapsed": true
   },
   "outputs": [],
   "source": []
  },
  {
   "cell_type": "code",
   "execution_count": null,
   "metadata": {
    "collapsed": true
   },
   "outputs": [],
   "source": []
  },
  {
   "cell_type": "code",
   "execution_count": null,
   "metadata": {
    "collapsed": true
   },
   "outputs": [],
   "source": []
  },
  {
   "cell_type": "code",
   "execution_count": null,
   "metadata": {
    "collapsed": true
   },
   "outputs": [],
   "source": []
  }
 ],
 "metadata": {
  "kernelspec": {
   "display_name": "Python 3",
   "language": "python",
   "name": "python3"
  },
  "language_info": {
   "codemirror_mode": {
    "name": "ipython",
    "version": 3
   },
   "file_extension": ".py",
   "mimetype": "text/x-python",
   "name": "python",
   "nbconvert_exporter": "python",
   "pygments_lexer": "ipython3",
   "version": "3.4.4"
  }
 },
 "nbformat": 4,
 "nbformat_minor": 0
}
