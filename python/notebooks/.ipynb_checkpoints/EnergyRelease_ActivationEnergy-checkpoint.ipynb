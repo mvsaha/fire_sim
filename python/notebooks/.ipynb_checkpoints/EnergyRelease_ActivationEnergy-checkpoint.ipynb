{
 "cells": [
  {
   "cell_type": "code",
   "execution_count": 332,
   "metadata": {
    "collapsed": true
   },
   "outputs": [],
   "source": [
    "import numpy as np\n",
    "from matplotlib.pyplot import *\n",
    "%matplotlib inline\n",
    "from numba import jit"
   ]
  },
  {
   "cell_type": "code",
   "execution_count": 366,
   "metadata": {
    "collapsed": false,
    "scrolled": true
   },
   "outputs": [],
   "source": [
    "# Global Variables\n",
    "_Y,_X = 100,100\n",
    "_Y_periodic, _X_periodic = False, False\n",
    "_cell_Y,_cell_X = 10.0, 10.0"
   ]
  },
  {
   "cell_type": "code",
   "execution_count": 328,
   "metadata": {
    "collapsed": false,
    "scrolled": true
   },
   "outputs": [
    {
     "name": "stdout",
     "output_type": "stream",
     "text": [
      "The slowest run took 17.77 times longer than the fastest. This could mean that an intermediate result is being cached \n",
      "10000 loops, best of 3: 169 ns per loop\n",
      "1.9393275831300203\n"
     ]
    }
   ],
   "source": [
    "shrub_activation_distribution = np.random.uniform\n",
    "shrub_activation_parameters = 1,2\n",
    "\n",
    "@jit(nopython=True)\n",
    "def shrub_activation():\n",
    "    return shrub_activation_distribution(shrub_activation_parameters[0],shrub_activation_parameters[1])\n",
    "\n",
    "%timeit -n 10000 shrub_activation()\n",
    "print(shrub_activation())"
   ]
  },
  {
   "cell_type": "code",
   "execution_count": 378,
   "metadata": {
    "collapsed": false
   },
   "outputs": [],
   "source": [
    "# Fire will spread as a function\n"
   ]
  },
  {
   "cell_type": "code",
   "execution_count": 450,
   "metadata": {
    "collapsed": false
   },
   "outputs": [],
   "source": [
    "# (1) Generate a random number related for the to be burned cell\n",
    "\n",
    "# (2) Apply this to the accumulated energy cell\n",
    "\n",
    "max_kernel_radius = 10\n",
    "\n",
    "import math\n",
    "@jit\n",
    "def euclidean_distance(y1,x1,y2,x2):\n",
    "    '''Find the Euclidean distance between two points'''\n",
    "    return math.sqrt( ((x1-x2)*(x1-x2)) + ((y1-y2)*(y1-y2)) )\n",
    "\n",
    "@jit(nopython=True)\n",
    "def apply_burn_energy(y,x,energy,accum_energy):\n",
    "    dist = 0\n",
    "    for iy in range(y-max_kernel_radius,y+max_kernel_radius+1):\n",
    "        if _Y_periodic and (iy >= _Y or iy < 0):\n",
    "            continue\n",
    "        for ix in range(x-max_kernel_radius,x+max_kernel_radius+1):\n",
    "            #print(iy,ix)\n",
    "            if _X_periodic and (ix >= _X or ix < 0):\n",
    "                continue\n",
    "            if y==iy and x==ix:\n",
    "                continue\n",
    "            \n",
    "            dist = euclidean_distance(y,x,iy,ix)\n",
    "            accum_energy[iy,ix] += energy / (dist*dist)"
   ]
  },
  {
   "cell_type": "code",
   "execution_count": 454,
   "metadata": {
    "collapsed": false
   },
   "outputs": [
    {
     "data": {
      "text/plain": [
       "<matplotlib.colorbar.Colorbar at 0x11f25bb38>"
      ]
     },
     "execution_count": 454,
     "metadata": {},
     "output_type": "execute_result"
    },
    {
     "data": {
      "image/png": "[encoded data removed]",
      "text/plain": [
       "<matplotlib.figure.Figure at 0x11efd4e80>"
      ]
     },
     "metadata": {},
     "output_type": "display_data"
    }
   ],
   "source": [
    "accum_energy = np.zeros(shape=(_Y,_X),dtype=float)\n",
    "\n",
    "apply_burn_energy(50,50,1,accum_energy)\n",
    "apply_burn_energy(30,20,5,accum_energy)\n",
    "apply_burn_energy(60,75,10,accum_energy)\n",
    "\n",
    "imshow(accum_energy)\n",
    "colorbar()"
   ]
  },
  {
   "cell_type": "code",
   "execution_count": null,
   "metadata": {
    "collapsed": true
   },
   "outputs": [],
   "source": [
    "_N = 3\n",
    "\n",
    "# landcover -> _Y by _X array that contains the land cover components\n",
    "# burnmap -> NaN is burned \n",
    "#"
   ]
  },
  {
   "cell_type": "code",
   "execution_count": 468,
   "metadata": {
    "collapsed": false
   },
   "outputs": [],
   "source": [
    "small_y,small_x = 50,50\n",
    "scale = 1/100\n",
    "landscape_small = np.random.randint(0,3,())"
   ]
  },
  {
   "cell_type": "code",
   "execution_count": null,
   "metadata": {
    "collapsed": true
   },
   "outputs": [],
   "source": [
    "y,x = 1000,1000"
   ]
  },
  {
   "cell_type": "code",
   "execution_count": 466,
   "metadata": {
    "collapsed": false,
    "scrolled": true
   },
   "outputs": [
    {
     "data": {
      "text/plain": [
       "1"
      ]
     },
     "execution_count": 466,
     "metadata": {},
     "output_type": "execute_result"
    }
   ],
   "source": [
    "landscape_small"
   ]
  },
  {
   "cell_type": "code",
   "execution_count": 469,
   "metadata": {
    "collapsed": false
   },
   "outputs": [
    {
     "data": {
      "text/plain": [
       "100000000"
      ]
     },
     "execution_count": 469,
     "metadata": {},
     "output_type": "execute_result"
    }
   ],
   "source": [
    "100*100 * 100*100"
   ]
  },
  {
   "cell_type": "code",
   "execution_count": 482,
   "metadata": {
    "collapsed": false
   },
   "outputs": [],
   "source": [
    "x = np.zeros(shape=(10000,10000),dtype=float)"
   ]
  },
  {
   "cell_type": "code",
   "execution_count": 475,
   "metadata": {
    "collapsed": false,
    "scrolled": true
   },
   "outputs": [
    {
     "data": {
      "text/plain": [
       "0.0"
      ]
     },
     "execution_count": 475,
     "metadata": {},
     "output_type": "execute_result"
    }
   ],
   "source": []
  },
  {
   "cell_type": "code",
   "execution_count": null,
   "metadata": {
    "collapsed": true
   },
   "outputs": [],
   "source": []
  },
  {
   "cell_type": "code",
   "execution_count": null,
   "metadata": {
    "collapsed": true
   },
   "outputs": [],
   "source": []
  },
  {
   "cell_type": "code",
   "execution_count": null,
   "metadata": {
    "collapsed": true
   },
   "outputs": [],
   "source": []
  },
  {
   "cell_type": "code",
   "execution_count": null,
   "metadata": {
    "collapsed": true
   },
   "outputs": [],
   "source": []
  },
  {
   "cell_type": "code",
   "execution_count": null,
   "metadata": {
    "collapsed": true
   },
   "outputs": [],
   "source": []
  }
 ],
 "metadata": {
  "kernelspec": {
   "display_name": "Python 3",
   "language": "python",
   "name": "python3"
  },
  "language_info": {
   "codemirror_mode": {
    "name": "ipython",
    "version": 3
   },
   "file_extension": ".py",
   "mimetype": "text/x-python",
   "name": "python",
   "nbconvert_exporter": "python",
   "pygments_lexer": "ipython3",
   "version": "3.4.3"
  }
 },
 "nbformat": 4,
 "nbformat_minor": 0
}
