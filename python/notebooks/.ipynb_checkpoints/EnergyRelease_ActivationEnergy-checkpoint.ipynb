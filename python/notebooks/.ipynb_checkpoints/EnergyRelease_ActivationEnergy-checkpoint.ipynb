{
 "cells": [
  {
   "cell_type": "code",
   "execution_count": 26,
   "metadata": {
    "collapsed": false
   },
   "outputs": [
    {
     "data": {
      "text/plain": [
       "<module 'utils' from '..\\\\utils\\\\__init__.py'>"
      ]
     },
     "execution_count": 26,
     "metadata": {},
     "output_type": "execute_result"
    }
   ],
   "source": [
    "import sys\n",
    "sys.path.append('../')\n",
    "sys.dont_write_bytecode = True\n",
    "import numpy as np\n",
    "from matplotlib.pyplot import *\n",
    "%matplotlib inline\n",
    "matplotlib.rcParams['figure.facecolor'] = [0.37]*3\n",
    "import numba\n",
    "import utils\n",
    "from imp import reload\n",
    "reload(utils)"
   ]
  },
  {
   "cell_type": "code",
   "execution_count": 171,
   "metadata": {
    "collapsed": false
   },
   "outputs": [],
   "source": [
    "def fill_L(B,t,L):\n",
    "    \"\"\"Fill a LandCover (L) map from a Biome map (B).\n",
    "    \n",
    "    [PARAMETERS]\n",
    "    B - 2d numpy.ndarray(int)\n",
    "        Spatial grid of Biome classes for each pixel.\n",
    "    \n",
    "    p - dict(key=int,val=list)\n",
    "        Look up table that gives the proportion of each land cover (rows)\n",
    "        in each Biome. t should support indexing for every integer value \n",
    "        found in B.\n",
    "        \n",
    "    [RETURNS]\n",
    "    L - 2d numpy.ndarray(int)\n",
    "        Land cover drawn from the distributions in t corresponding to each\n",
    "        Biome type. Identical in shape to B.\n",
    "    \"\"\"\n",
    "    assert(np.all(np.sum(t,axis=2==1.0)))\n",
    "    L = np.zeros_like(B,dtype=int)\n",
    "    \n",
    "    for biome in np.unique(B):\n",
    "        proportions = p[biome] # Proportion of each land cover class in this biome\n",
    "        y,x = np.where(B==biome)\n",
    "        L[y,x] = np.random.choice(len(proportions),y.size,p=proportions)\n",
    "    return L"
   ]
  },
  {
   "cell_type": "code",
   "execution_count": 172,
   "metadata": {
    "collapsed": false
   },
   "outputs": [],
   "source": [
    "def fill_A(L,activation_rng,A):\n",
    "    \"\"\"Fill the Activation Energy map (A) with randomly generated values.\n",
    "    \n",
    "    [PARAMETERS]\n",
    "    L - 2d numpy.ndarray(int)\n",
    "        Landcover component type (e.g. bare, grass, etc.)\n",
    "    rng - dict(key=int,value=callable)\n",
    "        A dict of callable objects (e.g. functions). There should be one\n",
    "        entry in the dictionary for each landcover component class. The \n",
    "        dictionary contains callables that takes an integer n and\n",
    "        returns a 1 dimensional numpy.ndarray(float) that has size n and \n",
    "        contains random values.\n",
    "    A - 2d numpy.ndarray(int)\n",
    "        The array to be filled with random activation energies based\n",
    "        on the land cover component.\n",
    "    \"\"\"\n",
    "    landcovers = np.unique(L)\n",
    "    for lc in landcovers:\n",
    "        y,x = np.where(L==lc)\n",
    "        A[y,x] = distributions[lc](y.size)"
   ]
  },
  {
   "cell_type": "code",
   "execution_count": 179,
   "metadata": {
    "collapsed": false
   },
   "outputs": [],
   "source": [
    "def fill_R(L,released_rng,R):\n",
    "    \"\"\"Fill the Release Energy map (R) with randomly generated values.\n",
    "    \n",
    "    [PARAMETERS]\n",
    "    L - 2d numpy.ndarray(int)\n",
    "        Landcover component type (e.g. bare, grass, etc.)\n",
    "    rng - dict(key=int,value=callable)\n",
    "        A dict of callable objects (e.g. functions). There should be one\n",
    "        entry in the dictionary for each landcover component class. The \n",
    "        dictionary contains callables that takes an integer n and\n",
    "        returns a 1 dimensional numpy.ndarray(float) that has size n and \n",
    "        contains random values.\n",
    "    R - 2d numpy.ndarray(int)\n",
    "        The array to be filled with random release energies based\n",
    "        on the land cover component.\n",
    "    \"\"\"\n",
    "    fill_A(L,released_rng,R) # Same functionality"
   ]
  },
  {
   "cell_type": "code",
   "execution_count": 183,
   "metadata": {
    "collapsed": false
   },
   "outputs": [],
   "source": [
    "import math\n",
    "\n",
    "max_kernel_radius = 10\n",
    "\n",
    "@jit(nopython=True)\n",
    "def euclidean_distance(y1,x1,y2,x2):\n",
    "    '''Find the Euclidean distance between two points'''\n",
    "    return math.sqrt( ((x1-x2)*(x1-x2)) + ((y1-y2)*(y1-y2)) )\n",
    "\n",
    "@jit(nopython=True)\n",
    "def burn_pixel(y,x,E,A,R,F,fires,buffer):\n",
    "    \"\"\"Apply the Released Energy in a burnt pixels to neighbors.\"\"\"\n",
    "    Y,X = E.shape\n",
    "    for iy in range(y-max_kernel_radius,y+max_kernel_radius+1):\n",
    "        if iy<0 or iy>=Y: continue\n",
    "        for ix in range(x-max_kernel_radius,x+max_kernel_radius+1):\n",
    "            if ix<0 or ix>=X or (y==iy and x==ix) or F[y,x]:\n",
    "                continue\n",
    "            dist = euclidean_distance(y,x,iy,ix)\n",
    "            if dist<=max_kernel_radius:\n",
    "                E[iy,ix] +=  R[y,x]/(dist*dist)"
   ]
  },
  {
   "cell_type": "code",
   "execution_count": null,
   "metadata": {
    "collapsed": true
   },
   "outputs": [],
   "source": [
    "@\n",
    "def ignite_fire(locations,fires,cursor):\n",
    "    \"\"\"Start a fire at the given locations.\n",
    "    [PARAMETERS]\n",
    "    \n",
    "    \"\"\"\n",
    "    for f in fires:\n",
    "        \n",
    "    "
   ]
  },
  {
   "cell_type": "code",
   "execution_count": 32,
   "metadata": {
    "collapsed": false
   },
   "outputs": [],
   "source": [
    "grid_dims = 100,100\n",
    "cell_size_m = 10 # meters\n",
    "B = np.random.randint(0,3,grid_dims)\n",
    "L = \n",
    "burns =        np.zeros(grid_dims,dtype=int)"
   ]
  },
  {
   "cell_type": "code",
   "execution_count": null,
   "metadata": {
    "collapsed": true
   },
   "outputs": [],
   "source": []
  },
  {
   "cell_type": "code",
   "execution_count": null,
   "metadata": {
    "collapsed": true
   },
   "outputs": [],
   "source": []
  },
  {
   "cell_type": "code",
   "execution_count": null,
   "metadata": {
    "collapsed": true
   },
   "outputs": [],
   "source": []
  },
  {
   "cell_type": "code",
   "execution_count": null,
   "metadata": {
    "collapsed": true
   },
   "outputs": [],
   "source": []
  },
  {
   "cell_type": "code",
   "execution_count": null,
   "metadata": {
    "collapsed": true
   },
   "outputs": [],
   "source": []
  },
  {
   "cell_type": "code",
   "execution_count": null,
   "metadata": {
    "collapsed": true
   },
   "outputs": [],
   "source": []
  }
 ],
 "metadata": {
  "kernelspec": {
   "display_name": "Python 3",
   "language": "python",
   "name": "python3"
  },
  "language_info": {
   "codemirror_mode": {
    "name": "ipython",
    "version": 3
   },
   "file_extension": ".py",
   "mimetype": "text/x-python",
   "name": "python",
   "nbconvert_exporter": "python",
   "pygments_lexer": "ipython3",
   "version": "3.4.1"
  }
 },
 "nbformat": 4,
 "nbformat_minor": 0
}
