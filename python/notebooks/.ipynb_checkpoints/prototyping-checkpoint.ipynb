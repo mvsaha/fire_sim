{
 "cells": [
  {
   "cell_type": "code",
   "execution_count": 2,
   "metadata": {
    "collapsed": true
   },
   "outputs": [],
   "source": [
    "import numpy as np\n",
    "from numba import jit\n",
    "from matplotlib.pyplot import *\n",
    "%matplotlib inline"
   ]
  },
  {
   "cell_type": "code",
   "execution_count": 3,
   "metadata": {
    "collapsed": true
   },
   "outputs": [],
   "source": [
    "@jit\n",
    "def bound(val,bnd):\n",
    "    '''Bound val to the interval [0,bnd).'''\n",
    "    if val >= bnd or val < 0:\n",
    "        return val%bnd\n",
    "    else:\n",
    "        return val\n",
    "\n",
    "@jit\n",
    "def bound_array(arr,bnd):\n",
    "    '''Bound an array of values to the interval [0,bnd) in place.'''\n",
    "    assert(len(arr.shape)==1)\n",
    "    for i,val in enumerate(arr):\n",
    "        arr[i] = bound(val,bnd)\n",
    "    \n",
    "import math\n",
    "@jit\n",
    "def euclidean_distance(y1,x1,y2,x2):\n",
    "    '''Find the Euclidean distance between two points'''\n",
    "    return math.sqrt( ((x1-x2)*(x1-x2)) + ((y1-y2)*(y1-y2)) )"
   ]
  },
  {
   "cell_type": "code",
   "execution_count": 4,
   "metadata": {
    "collapsed": false
   },
   "outputs": [],
   "source": [
    "@jit\n",
    "def write_radii(grid,pix,radius,val,periodicity):\n",
    "    '''Assign a values to cells within the radii of another cell.'''\n",
    "    n = pix.shape[1]\n",
    "    assert(pix.shape[0]==2)\n",
    "    Y,X = grid.shape\n",
    "    \n",
    "    for i in range(n):\n",
    "        \n",
    "        r = radius[i]\n",
    "        \n",
    "        miny = pix[0,i]-r\n",
    "        if miny<0 and not periodicity[0]:\n",
    "            miny = 0\n",
    "        \n",
    "        maxy = pix[0,i]+r\n",
    "        if maxy>=Y and not periodicity[0]:\n",
    "            maxy = Y\n",
    "        \n",
    "        minx = pix[1,i]-r\n",
    "        if minx<0 and not periodicity[1]:\n",
    "            minx = 0\n",
    "        \n",
    "        maxx = pix[1,i]+r\n",
    "        if maxx>=X and not periodicity[1]:\n",
    "            maxx = X\n",
    "        \n",
    "        for y in range(miny,maxy):\n",
    "            if periodicity[0]:\n",
    "                y = bound(y,Y)\n",
    "            \n",
    "            for x in range(minx,maxx):\n",
    "                if periodicity[1]:\n",
    "                    x = bound(x,X)\n",
    "                if euclidean_distance(pix[0,i],pix[1,i],y,x)<=r:\n",
    "                    grid[y,x] = val[i]"
   ]
  },
  {
   "cell_type": "code",
   "execution_count": 5,
   "metadata": {
    "collapsed": false
   },
   "outputs": [],
   "source": [
    "class Simulation:\n",
    "    def __init__(self,shape,houses,defspace,Tr_spread,Tr_succession,Tr_disturbance):\n",
    "        self.shape = shape\n",
    "        self.k\n",
    "        self.n_cells = np.prod(self.shape)\n",
    "        \n",
    "        self.landscape = np.zeros(shape,int)\n",
    "        self.burns = np.zeros(shape,dtype=int)\n",
    "        \n",
    "        self.buffers = [np.zeros((bufferlength,2),dtype=int),np.zeros((bufferlength,2),dtype=int)]\n",
    "        self.active_buffer = 0\n",
    "        \n",
    "        self.randnumbuffer = [0]\n",
    "        self.is_periodic = np.array([False,False])\n",
    "        \n",
    "    def run(self):\n",
    "        pass\n",
    "    \n",
    "    def burn(self):\n",
    "        if self.active_buffer == 0:\n",
    "            self.cursor = _burn(self.landscape,self.Tr_spread,self.buffers[0],self.cursor,\n",
    "                                self.buffers[1],self.neighbors,self.is_periodic)\n",
    "        elif self.active_buffer == 1:\n",
    "            self.cursor = _burn(landscape,Tr_spread,buffers[0],self.cursor,buffers[1],neighbors,)\n",
    "    \n",
    "    def reset():\n",
    "        pass"
   ]
  },
  {
   "cell_type": "code",
   "execution_count": 19,
   "metadata": {
    "collapsed": true
   },
   "outputs": [],
   "source": [
    "#@jit(nopython=True)\n",
    "def _burn(landscape,burns,burnval,Tr_spread,oldfires,cursor,newfires,neighbors,is_periodic):\n",
    "    #print(\"------------------\")\n",
    "    newcursor = 0\n",
    "    #neigh = np.array([0,0])\n",
    "    n_neighbors = neighbors.shape[0]\n",
    "    Y,X = landscape.shape\n",
    "    #print(Y,X)\n",
    "    neighbor = np.array([0,0])\n",
    "    \n",
    "    # Loop through pixels already on fire\n",
    "    for i_firepix in range(cursor):\n",
    "        #print(\"i_firepix \",i_firepix)\n",
    "        pix = oldfires[i_firepix]\n",
    "        landtype = landscape[pix[0],pix[1]]\n",
    "        \n",
    "        # Loop through neighbors of that pixel\n",
    "        for i_neighbor in range(n_neighbors):\n",
    "            \n",
    "            neighbor[0] = pix[0] + neighbors[i_neighbor,0]\n",
    "            neighbor[1] = pix[1] + neighbors[i_neighbor,1]\n",
    "            \n",
    "            #print(\"neighbor\",neighbor)\n",
    "            \n",
    "            if (neighbor[0] >= Y or neighbor[0] < 0):\n",
    "                #print(\"y too big\")\n",
    "                if is_periodic[0]:\n",
    "                    #print(\"   bounding\")\n",
    "                    neighbor[0] = bound(neighbor[0],Y)\n",
    "                else:\n",
    "                    continue\n",
    "            \n",
    "            if (neighbor[1] >= X or neighbor[1] < 0):\n",
    "                #print(\"y too big\")\n",
    "                if is_periodic[1]:\n",
    "                    neighbor[1] = bound(neighbor[1],X)\n",
    "                    #print(\"   bounding\")\n",
    "                else:\n",
    "                    continue\n",
    "            \n",
    "            # Roll the dice to see if neighbor gets burned\n",
    "            if (np.random.rand() <= Tr_spread[landtype,landscape[neighbor[0],neighbor[1]]] and\n",
    "                np.isnan(burns[neighbor[0],neighbor[1]])):\n",
    "                \n",
    "                newfires[newcursor] = neighbor\n",
    "                newcursor += 1\n",
    "                burns[neighbor[0],neighbor[1]] = burnval\n",
    "                \n",
    "    return newcursor"
   ]
  },
  {
   "cell_type": "code",
   "execution_count": 30,
   "metadata": {
    "collapsed": false
   },
   "outputs": [
    {
     "data": {
      "text/plain": [
       "<matplotlib.image.AxesImage at 0x10b3bb240>"
      ]
     },
     "execution_count": 30,
     "metadata": {},
     "output_type": "execute_result"
    },
    {
     "name": "stderr",
     "output_type": "stream",
     "text": [
      "//anaconda/lib/python3.4/site-packages/numpy/ma/core.py:3900: UserWarning: Warning: converting a masked element to nan.\n",
      "  warnings.warn(\"Warning: converting a masked element to nan.\")\n"
     ]
    },
    {
     "data": {
      "image/png": "[encoded data removed]",
      "text/plain": [
       "<matplotlib.figure.Figure at 0x10ac71fd0>"
      ]
     },
     "metadata": {},
     "output_type": "display_data"
    }
   ],
   "source": [
    "shp = np.array([200,200])\n",
    "landscape = np.zeros(shp,dtype=int)\n",
    "burns = np.zeros(shp,dtype=float)\n",
    "burns[:] = np.nan\n",
    "\n",
    "Tr_spread = np.array([[0.50,0.0],\n",
    "                      [0.0,0.0]],dtype=float)\n",
    "\n",
    "neighbors = np.array([[-1,0],[0,-1],[1,0],[0,1]])\n",
    "is_periodic = np.array([False,False],dtype=bool)\n",
    "newfires = np.zeros((10000,2),dtype=int)\n",
    "oldfires = np.zeros((10000,2),dtype=int)\n",
    "oldfires[0] = shp/2\n",
    "\n",
    "cursor = 1\n",
    "burn_iter = 1;\n",
    "\n",
    "#fig = figure(figsize=(7,7))\n",
    "while(cursor):\n",
    "    cursor = _burn(landscape,burns,burn_iter,Tr_spread,oldfires,cursor,newfires,neighbors,is_periodic)\n",
    "    #print(\"cursor\",cursor)\n",
    "    burn_iter+= 1\n",
    "    oldfires,newfires = newfires,oldfires\n",
    "    \n",
    "imshow(np.ma.array(burns,mask=np.isnan(burns)))"
   ]
  },
  {
   "cell_type": "code",
   "execution_count": null,
   "metadata": {
    "collapsed": true
   },
   "outputs": [],
   "source": []
  },
  {
   "cell_type": "code",
   "execution_count": null,
   "metadata": {
    "collapsed": true
   },
   "outputs": [],
   "source": []
  },
  {
   "cell_type": "code",
   "execution_count": null,
   "metadata": {
    "collapsed": true
   },
   "outputs": [],
   "source": []
  },
  {
   "cell_type": "code",
   "execution_count": null,
   "metadata": {
    "collapsed": true
   },
   "outputs": [],
   "source": []
  },
  {
   "cell_type": "code",
   "execution_count": null,
   "metadata": {
    "collapsed": true
   },
   "outputs": [],
   "source": []
  },
  {
   "cell_type": "code",
   "execution_count": null,
   "metadata": {
    "collapsed": true
   },
   "outputs": [],
   "source": []
  },
  {
   "cell_type": "code",
   "execution_count": null,
   "metadata": {
    "collapsed": true
   },
   "outputs": [],
   "source": []
  },
  {
   "cell_type": "code",
   "execution_count": null,
   "metadata": {
    "collapsed": true
   },
   "outputs": [],
   "source": []
  }
 ],
 "metadata": {
  "kernelspec": {
   "display_name": "Python 3",
   "language": "python",
   "name": "python3"
  },
  "language_info": {
   "codemirror_mode": {
    "name": "ipython",
    "version": 3
   },
   "file_extension": ".py",
   "mimetype": "text/x-python",
   "name": "python",
   "nbconvert_exporter": "python",
   "pygments_lexer": "ipython3",
   "version": "3.4.3"
  }
 },
 "nbformat": 4,
 "nbformat_minor": 0
}
